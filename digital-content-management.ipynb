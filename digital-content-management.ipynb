{
 "cells": [
  {
   "cell_type": "markdown",
   "id": "40995a14",
   "metadata": {},
   "source": [
    "**PROJECT OBJECTIVE:** The need is to build a NLP classifier which can use input text parameters to determine the label/s of the blog."
   ]
  },
  {
   "cell_type": "markdown",
   "id": "74ffd020",
   "metadata": {},
   "source": [
    "### 1. Import Library and Load Data"
   ]
  },
  {
   "cell_type": "code",
   "execution_count": 21,
   "id": "b04a632c",
   "metadata": {},
   "outputs": [
    {
     "data": {
      "text/plain": [
       "'2.5.0'"
      ]
     },
     "execution_count": 21,
     "metadata": {},
     "output_type": "execute_result"
    }
   ],
   "source": [
    "import tensorflow as tf\n",
    "tf.__version__"
   ]
  },
  {
   "cell_type": "code",
   "execution_count": 22,
   "id": "82c08f10",
   "metadata": {},
   "outputs": [
    {
     "name": "stderr",
     "output_type": "stream",
     "text": [
      "[nltk_data] Downloading package punkt to\n",
      "[nltk_data]     C:\\Users\\Sanvi\\AppData\\Roaming\\nltk_data...\n",
      "[nltk_data]   Package punkt is already up-to-date!\n",
      "[nltk_data] Downloading package stopwords to\n",
      "[nltk_data]     C:\\Users\\Sanvi\\AppData\\Roaming\\nltk_data...\n",
      "[nltk_data]   Package stopwords is already up-to-date!\n",
      "[nltk_data] Downloading package wordnet to\n",
      "[nltk_data]     C:\\Users\\Sanvi\\AppData\\Roaming\\nltk_data...\n",
      "[nltk_data]   Package wordnet is already up-to-date!\n"
     ]
    }
   ],
   "source": [
    "# Importing libraries\n",
    "\n",
    "from bs4 import BeautifulSoup\n",
    "from collections import defaultdict\n",
    "from copy import deepcopy\n",
    "import matplotlib.pyplot as plt\n",
    "%matplotlib inline\n",
    "\n",
    "import seaborn as sns\n",
    "import random, re\n",
    "import time\n",
    "from tqdm import tqdm\n",
    "import h5py\n",
    "import livelossplot\n",
    "import numpy as np\n",
    "import os\n",
    "import pandas as pd\n",
    "import re\n",
    "import seaborn as sns\n",
    "import string\n",
    "import tensorflow as tf\n",
    "import unicodedata\n",
    "from icecream import ic\n",
    "from string import punctuation\n",
    "\n",
    "# used to supress display of warnings\n",
    "import warnings\n",
    "tqdm.pandas()\n",
    "warnings.filterwarnings('ignore')\n",
    "import missingno as mno\n",
    "\n",
    "# nlp libraries\n",
    "import nltk\n",
    "nltk.download('punkt')\n",
    "nltk.download('stopwords')\n",
    "nltk.download('wordnet')\n",
    "\n",
    "from nltk.tokenize import word_tokenize\n",
    "from nltk.corpus import stopwords\n",
    "stop_words = stopwords.words('english')\n",
    "from sklearn.feature_extraction.text import TfidfVectorizer\n",
    "from nltk.stem import WordNetLemmatizer\n",
    "from nltk import word_tokenize\n",
    "from nltk.stem.snowball import SnowballStemmer\n",
    "from sklearn.model_selection import train_test_split\n",
    "from sklearn.feature_extraction.text import CountVectorizer\n",
    "\n",
    "# import holoviews as hv\n",
    "# from holoviews import opts\n",
    "\n",
    "import os;\n",
    "from os import makedirs\n",
    "\n",
    "# sampling methods\n",
    "from sklearn.utils import resample\n",
    "from imblearn.over_sampling import SMOTE\n",
    "\n",
    "# import zscore for scaling the data\n",
    "from scipy.stats import zscore\n",
    "from scipy.stats import randint as sp_randint\n",
    "\n",
    "# save models\n",
    "import pickle\n",
    "\n",
    "# pre-processing methods\n",
    "from sklearn.model_selection import train_test_split\n",
    "\n",
    "# the classification models # ensemble models\n",
    "from sklearn.ensemble import RandomForestClassifier\n",
    "from sklearn.ensemble import StackingClassifier\n",
    "from sklearn.ensemble import BaggingClassifier\n",
    "from sklearn.ensemble import ExtraTreesClassifier\n",
    "from sklearn.ensemble import AdaBoostClassifier\n",
    "from sklearn.ensemble import GradientBoostingClassifier\n",
    "from catboost import CatBoostClassifier\n",
    "from lightgbm import LGBMClassifier\n",
    "from xgboost import XGBClassifier\n",
    "\n",
    "# methods and classes for evaluation\n",
    "from sklearn.model_selection import cross_val_score\n",
    "from sklearn.model_selection import StratifiedKFold\n",
    "\n",
    "from sklearn import metrics\n",
    "from sklearn.metrics import classification_report\n",
    "from sklearn.metrics import accuracy_score, f1_score, confusion_matrix, recall_score, precision_score, roc_auc_score\n",
    "\n",
    "# cross-validation methods\n",
    "from sklearn.model_selection import KFold\n",
    "from sklearn.model_selection import RepeatedStratifiedKFold\n",
    "from sklearn.model_selection import GridSearchCV, RandomizedSearchCV\n",
    "\n",
    "# feature selection methods\n",
    "from sklearn.pipeline import Pipeline\n",
    "from sklearn.decomposition import PCA\n",
    "from sklearn.decomposition import TruncatedSVD\n",
    "from sklearn.discriminant_analysis import LinearDiscriminantAnalysis\n",
    "from sklearn.feature_selection import SelectKBest\n",
    "from sklearn.feature_selection import f_classif\n",
    "from sklearn.feature_selection import mutual_info_classif\n",
    "from sklearn.feature_selection import RFE\n",
    "from sklearn.feature_selection import RFECV\n",
    "\n",
    "# pre-processing methods\n",
    "from sklearn.preprocessing import StandardScaler\n",
    "from sklearn.preprocessing import PowerTransformer\n",
    "from sklearn.preprocessing import LabelEncoder\n",
    "\n",
    "# sampling methods\n",
    "from sklearn.utils import resample\n",
    "from imblearn.over_sampling import SMOTE\n",
    "\n",
    "# import zscore for scaling the data\n",
    "from scipy.stats import zscore\n",
    "from scipy.stats import randint as sp_randint\n",
    "\n",
    "# Deep learning libraries\n",
    "from tensorflow.keras.layers import Input, Dense, Dropout, BatchNormalization, Activation\n",
    "from tensorflow.keras.layers import Flatten, LSTM, Embedding, Flatten, Bidirectional, GlobalMaxPool1D\n",
    "from tensorflow.keras.optimizers import SGD\n",
    "from tensorflow.keras.models import Sequential\n",
    "from tensorflow.keras import optimizers\n",
    "from tensorflow.keras.models import Model\n",
    "from tensorflow.keras.models import model_from_json\n",
    "from tensorflow.keras.regularizers import l1, l2, l1_l2\n",
    "from tensorflow.keras.utils import to_categorical\n",
    "\n",
    "#from tensorflow.keras.constraints import maxnorm, min_max_norm\n",
    "from tensorflow.keras.constraints import unit_norm\n",
    "from tensorflow.keras.callbacks import ReduceLROnPlateau\n",
    "from tensorflow.keras.callbacks import EarlyStopping\n",
    "from tensorflow.keras.callbacks import ModelCheckpoint\n",
    "from tensorflow.keras.models import model_from_json\n",
    "\n",
    "from tensorflow.keras.models import load_model\n",
    "from tensorflow.keras.wrappers.scikit_learn import KerasClassifier\n",
    "\n",
    "# Keras pre-processing\n",
    "from tensorflow.keras.preprocessing.text import Tokenizer\n",
    "from tensorflow.keras.preprocessing.sequence import pad_sequences\n",
    "\n",
    "from nltk.tokenize import word_tokenize\n",
    "from nltk.corpus import stopwords\n",
    "stop_words = stopwords.words('english')\n",
    "from sklearn.feature_extraction.text import TfidfVectorizer\n",
    "\n",
    "from wordcloud import WordCloud, STOPWORDS"
   ]
  },
  {
   "cell_type": "code",
   "execution_count": 23,
   "id": "1b924c91",
   "metadata": {},
   "outputs": [],
   "source": [
    "from sklearn.multiclass import OneVsRestClassifier\n",
    "from sklearn.linear_model import LogisticRegression\n",
    "from sklearn.metrics import accuracy_score, f1_score, precision_score, recall_score, classification_report\n",
    "from sklearn.preprocessing import MultiLabelBinarizer\n",
    "from random import sample\n"
   ]
  },
  {
   "cell_type": "code",
   "execution_count": 24,
   "id": "b9c1cea8",
   "metadata": {},
   "outputs": [],
   "source": [
    "import holoviews as hv\n",
    "from holoviews import opts"
   ]
  },
  {
   "cell_type": "code",
   "execution_count": 25,
   "id": "b6aea8fb",
   "metadata": {},
   "outputs": [],
   "source": [
    "import numpy as np\n",
    "np.random.seed(7)"
   ]
  },
  {
   "cell_type": "markdown",
   "id": "ffa84434",
   "metadata": {},
   "source": [
    "#### i.Utility function to reduce the repeated work"
   ]
  },
  {
   "cell_type": "code",
   "execution_count": 26,
   "id": "063ea1b7",
   "metadata": {},
   "outputs": [],
   "source": [
    "def print_df_shape(_df):\n",
    "    _row, _col = _df.shape\n",
    "    \n",
    "    print(\"------------------------------------------------\")\n",
    "    print(\"Number of rows :\", _row)\n",
    "    print(\"Number of cols :\", _col)\n",
    "    print(\"------------------------------------------------\")"
   ]
  },
  {
   "cell_type": "code",
   "execution_count": 27,
   "id": "e4e33c67",
   "metadata": {},
   "outputs": [],
   "source": [
    "def print_df_nature(_df):\n",
    "    _num_feature = _df.select_dtypes(exclude = \"object\")\n",
    "    _cat_feature = _df.select_dtypes(include = \"object\")\n",
    "\n",
    "    print(\"------------------------------------------------\")\n",
    "    print(\"Categorical Features :\\n\\t'{}'\".format(\"', '\".join([*_cat_feature])))\n",
    "    print(\"Numerical Features   :\\n\\t'{}'\".format(\"', '\".join([*_num_feature])))\n",
    "    print(\"------------------------------------------------\")"
   ]
  },
  {
   "cell_type": "code",
   "execution_count": 28,
   "id": "a7361e5d",
   "metadata": {},
   "outputs": [],
   "source": [
    "def check_missing_values(_df):\n",
    "    _isna_sum  = _df.isna().sum()\n",
    "\n",
    "    print(\"------------------------------------------------\")\n",
    "    print(\"\\nCount of missing values in each column:\\n{}\".format(_isna_sum))\n",
    "    print(\"------------------------------------------------\")"
   ]
  },
  {
   "cell_type": "code",
   "execution_count": 29,
   "id": "e0e7e0eb",
   "metadata": {},
   "outputs": [],
   "source": [
    "def plot_three_by_four(df, row, col, model='distplot', hue_required=False):\n",
    "    cols = list(df)\n",
    "#     print (cols)\n",
    "    fig = plt.figure(figsize=(20,15))\n",
    "    fig.tight_layout(h_pad=5)\n",
    "\n",
    "    _row, _col = row, col\n",
    "    _next = 1\n",
    "    for col in cols[:-1]:\n",
    "        plt.subplot(_row, _col, _next)\n",
    "        plt.xlabel(col)\n",
    "        \n",
    "        if model.lower() == 'scatterplot':\n",
    "            sns.scatterplot(data = df, x = col, y = 'Signal_Strength', hue = 'Signal_Strength')\n",
    "\n",
    "        if model.lower() == 'distplot':\n",
    "            sns.distplot(df[col])\n",
    "            \n",
    "        if model.lower() == 'boxplot' and not hue_required:\n",
    "            sns.boxplot(df[col])\n",
    "        \n",
    "        if model.lower() == 'boxplot' and hue_required:\n",
    "                sns.boxplot(df[col], hue=df['Signal_Strength'])\n",
    " \n",
    "        _next += 1\n",
    "    print(\"------------------------------------------------\")"
   ]
  },
  {
   "cell_type": "code",
   "execution_count": 30,
   "id": "2c491a09",
   "metadata": {},
   "outputs": [],
   "source": [
    "def get_details_of_each_column(df):\n",
    "    cols = list(df)\n",
    "    for col in cols:\n",
    "        _head = col.ljust(15, '-')\n",
    "        print(f\"---------------------{_head}---------------------------\")        \n",
    "        _temp_df = []\n",
    "        _temp_df.append(['Mean'.ljust(20, ' '), df[col].mean()])\n",
    "        _temp_df.append(['Median'.ljust(20, ' '), df[col].median()])\n",
    "        _temp_df.append(['Mode'.ljust(20, ' '), df[col].mode().iloc[0]])\n",
    "        _temp_df.append(['Standard deviation'.ljust(20, ' '), df[col].std()])\n",
    "        _temp_df.append(['Skewness'.ljust(20, ' '), df[col].skew()])\n",
    "\n",
    "        result_df = pd.DataFrame(_temp_df, columns = ['Details', 'Values'])\n",
    "        print(result_df)       \n",
    "        print(\"---------------------------------------------------------------\\n\")"
   ]
  },
  {
   "cell_type": "code",
   "execution_count": 31,
   "id": "23c0b3d4",
   "metadata": {},
   "outputs": [],
   "source": [
    "def plot_Skewness_of_each_column(df):\n",
    "    cols = list(df)\n",
    "    c = -1\n",
    "    _color = [\"teal\", \"skyblue\", \"olive\", \"gold\"]\n",
    "    fig = plt.figure(figsize=(20,15))\n",
    "    fig.tight_layout(h_pad=5)\n",
    "\n",
    "    _row, _col = 4, 4\n",
    "    _next = 1\n",
    "    for col in cols[:-1]:\n",
    "        if c >= 3:\n",
    "            c = -1\n",
    "        c += 1\n",
    "        plt.subplot(_row, _col, _next)\n",
    "        plt.xlabel(col)\n",
    "        sns.distplot(df[col], color=_color[c])\n",
    "        _next += 1\n",
    "        legend_labels  = ['Ske']\n",
    "        legend_patches = [\"Skewness: %f\" % df[col].skew()]\n",
    "        plt.legend(legend_patches)    "
   ]
  },
  {
   "cell_type": "code",
   "execution_count": 32,
   "id": "11989f54",
   "metadata": {},
   "outputs": [],
   "source": [
    "def process_the_data(df):\n",
    "    df_text = str(df.text).strip()\n",
    "    \n",
    "    if not isinstance(df_text, str):\n",
    "        processed_text = np.nan\n",
    "    else:\n",
    "\n",
    "        # Unicode\n",
    "        _text = unicodedata.normalize('NFKD', df_text).encode('ascii', 'ignore').decode('utf-8', 'ignore')\n",
    "    #     ic(_text)\n",
    "\n",
    "        # Remove HTML characters \n",
    "        _bs = BeautifulSoup(_text, \"html.parser\")\n",
    "        [_str.extract() for _str in _bs(['iframe', 'script'])]\n",
    "        _text = _bs.get_text()\n",
    "        _text = re.sub(r'[\\r|\\n|\\r\\n]+', '\\n', _text)\n",
    "    \n",
    "        # Remove special characters \n",
    "        pattern = r\"[^A-Za-z0-9!?\\'\\`]\"\n",
    "        _text = re.sub(pattern, ' ', _text)\n",
    "    #     ic(_text)\n",
    "\n",
    "        # Remove Stop words \n",
    "        stop_words = stopwords.words('english') + list(punctuation) + ['urllink']\n",
    "        _words = word_tokenize(_text)\n",
    "        _words = [_word.lower() for _word in _words]\n",
    "        _words = [_word for _word in _words if _word not in stop_words and not _word.isdigit()]\n",
    "        words = list(dict.fromkeys(_words))\n",
    "    #     ic(words)\n",
    "\n",
    "        # Lemmatization\n",
    "        _lemma = WordNetLemmatizer()\n",
    "        _text = ' '.join([_lemma.lemmatize(_word) for _word in words])\n",
    "\n",
    "        # Stemming\n",
    "        _stemm = SnowballStemmer('english')\n",
    "        _words = word_tokenize(_text)\n",
    "        _stem_words = [_stemm.stem(_word) for _word in _words]\n",
    "        processed_text = \" \".join(_stem_words)\n",
    "\n",
    "    df['processed_text'] = processed_text\n",
    "\n",
    "    return df"
   ]
  },
  {
   "cell_type": "code",
   "execution_count": 33,
   "id": "9f28c918",
   "metadata": {},
   "outputs": [],
   "source": [
    "from sklearn.metrics import accuracy_score, f1_score, average_precision_score, recall_score\n",
    "\n",
    "def print_predicted_scores(_actuals, _predicted, _average):\n",
    "    print('-------------- Average Type ', _average, '--------------')\n",
    "    _score = f1_score(_actuals, _predicted, average=_average)\n",
    "    print(f'               F1 score: {_score*100: .2f}%')\n",
    "    _score = average_precision_score(_actuals, _predicted, average=_average)\n",
    "    print(f'              Avg Precision Score: {_score*100: .2f}%')\n",
    "    _score = recall_score(_actuals, _predicted, average=_average)\n",
    "    print(f'               Avg Recall Score: {_score*100: .2f}%')"
   ]
  },
  {
   "cell_type": "markdown",
   "id": "314a5a96",
   "metadata": {},
   "source": [
    "### 2.Import the data. Analyse the dimensions of the data. Visualise the data"
   ]
  },
  {
   "cell_type": "code",
   "execution_count": 34,
   "id": "5ae903c6",
   "metadata": {},
   "outputs": [
    {
     "data": {
      "text/html": [
       "<div>\n",
       "<style scoped>\n",
       "    .dataframe tbody tr th:only-of-type {\n",
       "        vertical-align: middle;\n",
       "    }\n",
       "\n",
       "    .dataframe tbody tr th {\n",
       "        vertical-align: top;\n",
       "    }\n",
       "\n",
       "    .dataframe thead th {\n",
       "        text-align: right;\n",
       "    }\n",
       "</style>\n",
       "<table border=\"1\" class=\"dataframe\">\n",
       "  <thead>\n",
       "    <tr style=\"text-align: right;\">\n",
       "      <th></th>\n",
       "      <th>id</th>\n",
       "      <th>gender</th>\n",
       "      <th>age</th>\n",
       "      <th>topic</th>\n",
       "      <th>sign</th>\n",
       "      <th>date</th>\n",
       "      <th>text</th>\n",
       "    </tr>\n",
       "  </thead>\n",
       "  <tbody>\n",
       "    <tr>\n",
       "      <th>0</th>\n",
       "      <td>2059027</td>\n",
       "      <td>male</td>\n",
       "      <td>15</td>\n",
       "      <td>Student</td>\n",
       "      <td>Leo</td>\n",
       "      <td>14,May,2004</td>\n",
       "      <td>Info has been found (+/- 100 pages,...</td>\n",
       "    </tr>\n",
       "    <tr>\n",
       "      <th>1</th>\n",
       "      <td>2059027</td>\n",
       "      <td>male</td>\n",
       "      <td>15</td>\n",
       "      <td>Student</td>\n",
       "      <td>Leo</td>\n",
       "      <td>13,May,2004</td>\n",
       "      <td>These are the team members:   Drewe...</td>\n",
       "    </tr>\n",
       "    <tr>\n",
       "      <th>2</th>\n",
       "      <td>2059027</td>\n",
       "      <td>male</td>\n",
       "      <td>15</td>\n",
       "      <td>Student</td>\n",
       "      <td>Leo</td>\n",
       "      <td>12,May,2004</td>\n",
       "      <td>In het kader van kernfusie op aarde...</td>\n",
       "    </tr>\n",
       "    <tr>\n",
       "      <th>3</th>\n",
       "      <td>2059027</td>\n",
       "      <td>male</td>\n",
       "      <td>15</td>\n",
       "      <td>Student</td>\n",
       "      <td>Leo</td>\n",
       "      <td>12,May,2004</td>\n",
       "      <td>testing!!!  testing!!!</td>\n",
       "    </tr>\n",
       "    <tr>\n",
       "      <th>4</th>\n",
       "      <td>3581210</td>\n",
       "      <td>male</td>\n",
       "      <td>33</td>\n",
       "      <td>InvestmentBanking</td>\n",
       "      <td>Aquarius</td>\n",
       "      <td>11,June,2004</td>\n",
       "      <td>Thanks to Yahoo!'s Toolbar I can ...</td>\n",
       "    </tr>\n",
       "  </tbody>\n",
       "</table>\n",
       "</div>"
      ],
      "text/plain": [
       "        id gender  age              topic      sign          date  \\\n",
       "0  2059027   male   15            Student       Leo   14,May,2004   \n",
       "1  2059027   male   15            Student       Leo   13,May,2004   \n",
       "2  2059027   male   15            Student       Leo   12,May,2004   \n",
       "3  2059027   male   15            Student       Leo   12,May,2004   \n",
       "4  3581210   male   33  InvestmentBanking  Aquarius  11,June,2004   \n",
       "\n",
       "                                                text  \n",
       "0             Info has been found (+/- 100 pages,...  \n",
       "1             These are the team members:   Drewe...  \n",
       "2             In het kader van kernfusie op aarde...  \n",
       "3                   testing!!!  testing!!!            \n",
       "4               Thanks to Yahoo!'s Toolbar I can ...  "
      ]
     },
     "execution_count": 34,
     "metadata": {},
     "output_type": "execute_result"
    }
   ],
   "source": [
    "blog_data=pd.read_csv(\"blogtext.csv\")\n",
    "blog_data.head(5)"
   ]
  },
  {
   "cell_type": "code",
   "execution_count": 35,
   "id": "69993ba6",
   "metadata": {},
   "outputs": [
    {
     "name": "stdout",
     "output_type": "stream",
     "text": [
      "------------------------------------------------\n",
      "Number of rows : 681284\n",
      "Number of cols : 7\n",
      "------------------------------------------------\n"
     ]
    }
   ],
   "source": [
    "# Date Shape\n",
    "print_df_shape(blog_data)"
   ]
  },
  {
   "cell_type": "markdown",
   "id": "17fc761a",
   "metadata": {},
   "source": [
    "- ***Dataset have 681284 rows and 7 columns.***"
   ]
  },
  {
   "cell_type": "code",
   "execution_count": 36,
   "id": "9b7541ff",
   "metadata": {},
   "outputs": [
    {
     "name": "stdout",
     "output_type": "stream",
     "text": [
      "------------------------------------------------\n",
      "Categorical Features :\n",
      "\t'gender', 'topic', 'sign', 'date', 'text'\n",
      "Numerical Features   :\n",
      "\t'id', 'age'\n",
      "------------------------------------------------\n"
     ]
    }
   ],
   "source": [
    "# This will output the field types\n",
    "print_df_nature(blog_data)"
   ]
  },
  {
   "cell_type": "code",
   "execution_count": 37,
   "id": "51b7f6a0",
   "metadata": {},
   "outputs": [
    {
     "name": "stdout",
     "output_type": "stream",
     "text": [
      "------------------------------------------------\n",
      "\n",
      "Count of missing values in each column:\n",
      "id        0\n",
      "gender    0\n",
      "age       0\n",
      "topic     0\n",
      "sign      0\n",
      "date      0\n",
      "text      0\n",
      "dtype: int64\n",
      "------------------------------------------------\n"
     ]
    }
   ],
   "source": [
    "# Missing values\n",
    "check_missing_values(blog_data)"
   ]
  },
  {
   "cell_type": "markdown",
   "id": "062a07f2",
   "metadata": {},
   "source": [
    "- ***As we can see there in no missing value***"
   ]
  },
  {
   "cell_type": "code",
   "execution_count": 38,
   "id": "72b1c28d",
   "metadata": {},
   "outputs": [
    {
     "name": "stdout",
     "output_type": "stream",
     "text": [
      "------------------------------------------------\n",
      "<class 'pandas.core.frame.DataFrame'>\n",
      "RangeIndex: 681284 entries, 0 to 681283\n",
      "Data columns (total 7 columns):\n",
      " #   Column  Non-Null Count   Dtype \n",
      "---  ------  --------------   ----- \n",
      " 0   id      681284 non-null  int64 \n",
      " 1   gender  681284 non-null  object\n",
      " 2   age     681284 non-null  int64 \n",
      " 3   topic   681284 non-null  object\n",
      " 4   sign    681284 non-null  object\n",
      " 5   date    681284 non-null  object\n",
      " 6   text    681284 non-null  object\n",
      "dtypes: int64(2), object(5)\n",
      "memory usage: 36.4+ MB\n",
      "------------------------------------------------\n"
     ]
    }
   ],
   "source": [
    "# Data Info\n",
    "print(\"------------------------------------------------\")\n",
    "blog_data.info()\n",
    "print(\"------------------------------------------------\")"
   ]
  },
  {
   "cell_type": "markdown",
   "id": "16f2a7b1",
   "metadata": {},
   "source": [
    "- ***As we saw above two columns id and age is numeric and rest columns are object type***"
   ]
  },
  {
   "cell_type": "code",
   "execution_count": 39,
   "id": "8b9b36b0",
   "metadata": {},
   "outputs": [
    {
     "data": {
      "text/plain": [
       "id                                                          2059027\n",
       "gender                                                         male\n",
       "age                                                              15\n",
       "topic                                                       Student\n",
       "sign                                                            Leo\n",
       "date                                                    14,May,2004\n",
       "text                         Info has been found (+/- 100 pages,...\n",
       "processed_text    info found page mb pdf file wait until team le...\n",
       "Name: 0, dtype: object"
      ]
     },
     "execution_count": 39,
     "metadata": {},
     "output_type": "execute_result"
    }
   ],
   "source": [
    "# Validating\n",
    "processed_text = process_the_data(blog_data.iloc[0])\n",
    "processed_text"
   ]
  },
  {
   "cell_type": "code",
   "execution_count": 22,
   "id": "6e4b32bf",
   "metadata": {},
   "outputs": [
    {
     "name": "stderr",
     "output_type": "stream",
     "text": [
      "100%|██████████| 681284/681284 [50:22<00:00, 225.38it/s]  \n"
     ]
    }
   ],
   "source": [
    "# ##To avoid the re-run  this was commented \n",
    "# blog_df = blog_data.progress_apply(process_the_data, axis=1)\n",
    "# blog_df.to_csv('blog_processed.csv', index = False)"
   ]
  },
  {
   "cell_type": "markdown",
   "id": "45a6016e",
   "metadata": {},
   "source": [
    "- ***process_the_data function basically do the all basic filers in data like, remomving stop word, rare words, apply limitization , steming etc.***\n",
    "- ***And save the file in current working directory***"
   ]
  },
  {
   "cell_type": "code",
   "execution_count": 40,
   "id": "cd79d72b",
   "metadata": {},
   "outputs": [
    {
     "data": {
      "text/html": [
       "<div>\n",
       "<style scoped>\n",
       "    .dataframe tbody tr th:only-of-type {\n",
       "        vertical-align: middle;\n",
       "    }\n",
       "\n",
       "    .dataframe tbody tr th {\n",
       "        vertical-align: top;\n",
       "    }\n",
       "\n",
       "    .dataframe thead th {\n",
       "        text-align: right;\n",
       "    }\n",
       "</style>\n",
       "<table border=\"1\" class=\"dataframe\">\n",
       "  <thead>\n",
       "    <tr style=\"text-align: right;\">\n",
       "      <th></th>\n",
       "      <th>id</th>\n",
       "      <th>gender</th>\n",
       "      <th>age</th>\n",
       "      <th>topic</th>\n",
       "      <th>sign</th>\n",
       "      <th>date</th>\n",
       "      <th>text</th>\n",
       "      <th>processed_text</th>\n",
       "    </tr>\n",
       "  </thead>\n",
       "  <tbody>\n",
       "    <tr>\n",
       "      <th>0</th>\n",
       "      <td>2059027</td>\n",
       "      <td>male</td>\n",
       "      <td>15</td>\n",
       "      <td>Student</td>\n",
       "      <td>Leo</td>\n",
       "      <td>14,May,2004</td>\n",
       "      <td>Info has been found (+/- 100 pages,...</td>\n",
       "      <td>info found page mb pdf file wait until team le...</td>\n",
       "    </tr>\n",
       "    <tr>\n",
       "      <th>1</th>\n",
       "      <td>2059027</td>\n",
       "      <td>male</td>\n",
       "      <td>15</td>\n",
       "      <td>Student</td>\n",
       "      <td>Leo</td>\n",
       "      <td>13,May,2004</td>\n",
       "      <td>These are the team members:   Drewe...</td>\n",
       "      <td>team member drew van der laag mail ruiyu xie b...</td>\n",
       "    </tr>\n",
       "    <tr>\n",
       "      <th>2</th>\n",
       "      <td>2059027</td>\n",
       "      <td>male</td>\n",
       "      <td>15</td>\n",
       "      <td>Student</td>\n",
       "      <td>Leo</td>\n",
       "      <td>12,May,2004</td>\n",
       "      <td>In het kader van kernfusie op aarde...</td>\n",
       "      <td>het kader van kernfusi op aard maak je eigen w...</td>\n",
       "    </tr>\n",
       "    <tr>\n",
       "      <th>3</th>\n",
       "      <td>2059027</td>\n",
       "      <td>male</td>\n",
       "      <td>15</td>\n",
       "      <td>Student</td>\n",
       "      <td>Leo</td>\n",
       "      <td>12,May,2004</td>\n",
       "      <td>testing!!!  testing!!!</td>\n",
       "      <td>test</td>\n",
       "    </tr>\n",
       "    <tr>\n",
       "      <th>4</th>\n",
       "      <td>3581210</td>\n",
       "      <td>male</td>\n",
       "      <td>33</td>\n",
       "      <td>InvestmentBanking</td>\n",
       "      <td>Aquarius</td>\n",
       "      <td>11,June,2004</td>\n",
       "      <td>Thanks to Yahoo!'s Toolbar I can ...</td>\n",
       "      <td>thank yahoo 's toolbar captur url popup mean s...</td>\n",
       "    </tr>\n",
       "  </tbody>\n",
       "</table>\n",
       "</div>"
      ],
      "text/plain": [
       "        id gender  age              topic      sign          date  \\\n",
       "0  2059027   male   15            Student       Leo   14,May,2004   \n",
       "1  2059027   male   15            Student       Leo   13,May,2004   \n",
       "2  2059027   male   15            Student       Leo   12,May,2004   \n",
       "3  2059027   male   15            Student       Leo   12,May,2004   \n",
       "4  3581210   male   33  InvestmentBanking  Aquarius  11,June,2004   \n",
       "\n",
       "                                                text  \\\n",
       "0             Info has been found (+/- 100 pages,...   \n",
       "1             These are the team members:   Drewe...   \n",
       "2             In het kader van kernfusie op aarde...   \n",
       "3                   testing!!!  testing!!!             \n",
       "4               Thanks to Yahoo!'s Toolbar I can ...   \n",
       "\n",
       "                                      processed_text  \n",
       "0  info found page mb pdf file wait until team le...  \n",
       "1  team member drew van der laag mail ruiyu xie b...  \n",
       "2  het kader van kernfusi op aard maak je eigen w...  \n",
       "3                                               test  \n",
       "4  thank yahoo 's toolbar captur url popup mean s...  "
      ]
     },
     "execution_count": 40,
     "metadata": {},
     "output_type": "execute_result"
    }
   ],
   "source": [
    "# Validate the created dataset\n",
    "blog_temp=pd.read_csv(\"blog_processed.csv\")\n",
    "blog_temp.head(5)"
   ]
  },
  {
   "cell_type": "markdown",
   "id": "e44b3b0f",
   "metadata": {},
   "source": [
    "- ***Check the data after applying basic process data conditions***"
   ]
  },
  {
   "cell_type": "code",
   "execution_count": 41,
   "id": "c5dd4da4",
   "metadata": {},
   "outputs": [
    {
     "data": {
      "text/plain": [
       "indUnk                     251015\n",
       "Student                    153903\n",
       "Technology                  42055\n",
       "Arts                        32449\n",
       "Education                   29633\n",
       "Communications-Media        20140\n",
       "Internet                    16006\n",
       "Non-Profit                  14700\n",
       "Engineering                 11653\n",
       "Law                          9040\n",
       "Publishing                   7753\n",
       "Science                      7269\n",
       "Government                   6907\n",
       "Consulting                   5862\n",
       "Religion                     5235\n",
       "Fashion                      4851\n",
       "Marketing                    4769\n",
       "Advertising                  4676\n",
       "BusinessServices             4500\n",
       "Banking                      4049\n",
       "Chemicals                    3928\n",
       "Telecommunications           3891\n",
       "Accounting                   3832\n",
       "Military                     3128\n",
       "Museums-Libraries            3096\n",
       "Sports-Recreation            3038\n",
       "HumanResources               3010\n",
       "RealEstate                   2870\n",
       "Transportation               2326\n",
       "Manufacturing                2272\n",
       "Biotech                      2234\n",
       "Tourism                      1942\n",
       "LawEnforcement-Security      1878\n",
       "Architecture                 1638\n",
       "InvestmentBanking            1292\n",
       "Automotive                   1244\n",
       "Agriculture                  1235\n",
       "Construction                 1093\n",
       "Environment                   592\n",
       "Maritime                      280\n",
       "Name: topic, dtype: int64"
      ]
     },
     "execution_count": 41,
     "metadata": {},
     "output_type": "execute_result"
    }
   ],
   "source": [
    "blog_temp[\"topic\"].value_counts()"
   ]
  },
  {
   "cell_type": "markdown",
   "id": "45e26317",
   "metadata": {},
   "source": [
    "- ***Count of words in 'topic' field***\n",
    "- ***As we can see indUnk have higher count***"
   ]
  },
  {
   "cell_type": "code",
   "execution_count": 42,
   "id": "0937f119",
   "metadata": {},
   "outputs": [
    {
     "data": {
      "text/plain": [
       "<AxesSubplot:>"
      ]
     },
     "execution_count": 42,
     "metadata": {},
     "output_type": "execute_result"
    },
    {
     "data": {
      "image/png": "[encoded data removed]",
      "text/plain": [
       "<Figure size 1440x360 with 1 Axes>"
      ]
     },
     "metadata": {
      "needs_background": "light"
     },
     "output_type": "display_data"
    }
   ],
   "source": [
    "blog_temp['topic'].value_counts().plot(kind='bar', figsize=(20, 5), width=.75)"
   ]
  },
  {
   "cell_type": "code",
   "execution_count": 43,
   "id": "2b5f5c2c",
   "metadata": {},
   "outputs": [
    {
     "data": {
      "text/plain": [
       "<AxesSubplot:>"
      ]
     },
     "execution_count": 43,
     "metadata": {},
     "output_type": "execute_result"
    },
    {
     "data": {
      "image/png": "[encoded data removed]",
      "text/plain": [
       "<Figure size 1440x360 with 1 Axes>"
      ]
     },
     "metadata": {
      "needs_background": "light"
     },
     "output_type": "display_data"
    }
   ],
   "source": [
    "blog_temp['sign'].value_counts().plot(kind='bar', figsize=(20, 5))"
   ]
  },
  {
   "cell_type": "markdown",
   "id": "35f03e91",
   "metadata": {},
   "source": [
    "- ***As we can see from graph more peoples sign with Cancer and Aries, followed by Taurus, Libra, Virgo and so on***"
   ]
  },
  {
   "cell_type": "code",
   "execution_count": 44,
   "id": "bffaabf1",
   "metadata": {},
   "outputs": [
    {
     "data": {
      "text/plain": [
       "id                False\n",
       "gender            False\n",
       "age               False\n",
       "topic             False\n",
       "sign              False\n",
       "date              False\n",
       "text              False\n",
       "processed_text     True\n",
       "dtype: bool"
      ]
     },
     "execution_count": 44,
     "metadata": {},
     "output_type": "execute_result"
    }
   ],
   "source": [
    "#to check if any row contain null value\n",
    "blog_temp.isna().any()"
   ]
  },
  {
   "cell_type": "code",
   "execution_count": 45,
   "id": "40465ced",
   "metadata": {},
   "outputs": [
    {
     "name": "stdout",
     "output_type": "stream",
     "text": [
      "------------------------------------------------\n",
      "\n",
      "Count of missing values in each column:\n",
      "id                   0\n",
      "gender               0\n",
      "age                  0\n",
      "topic                0\n",
      "sign                 0\n",
      "date                 0\n",
      "text                 0\n",
      "processed_text    6633\n",
      "dtype: int64\n",
      "------------------------------------------------\n"
     ]
    }
   ],
   "source": [
    "# Missing values\n",
    "check_missing_values(blog_temp)"
   ]
  },
  {
   "cell_type": "markdown",
   "id": "5b5cefdb",
   "metadata": {},
   "source": [
    "- ***As we can see processed_text have some null entry***"
   ]
  },
  {
   "cell_type": "code",
   "execution_count": 46,
   "id": "9af7cd91",
   "metadata": {},
   "outputs": [
    {
     "name": "stdout",
     "output_type": "stream",
     "text": [
      "------------------------------------------------\n",
      "<class 'pandas.core.frame.DataFrame'>\n",
      "RangeIndex: 681284 entries, 0 to 681283\n",
      "Data columns (total 8 columns):\n",
      " #   Column          Non-Null Count   Dtype \n",
      "---  ------          --------------   ----- \n",
      " 0   id              681284 non-null  int64 \n",
      " 1   gender          681284 non-null  object\n",
      " 2   age             681284 non-null  int64 \n",
      " 3   topic           681284 non-null  object\n",
      " 4   sign            681284 non-null  object\n",
      " 5   date            681284 non-null  object\n",
      " 6   text            681284 non-null  object\n",
      " 7   processed_text  674651 non-null  object\n",
      "dtypes: int64(2), object(6)\n",
      "memory usage: 41.6+ MB\n",
      "------------------------------------------------\n"
     ]
    }
   ],
   "source": [
    "# Data Info\n",
    "print(\"------------------------------------------------\")\n",
    "blog_temp.info()\n",
    "print(\"------------------------------------------------\")"
   ]
  },
  {
   "cell_type": "code",
   "execution_count": 47,
   "id": "8499186f",
   "metadata": {},
   "outputs": [
    {
     "name": "stdout",
     "output_type": "stream",
     "text": [
      "------------------------------------------------\n",
      "<class 'pandas.core.frame.DataFrame'>\n",
      "RangeIndex: 681284 entries, 0 to 681283\n",
      "Data columns (total 7 columns):\n",
      " #   Column          Non-Null Count   Dtype \n",
      "---  ------          --------------   ----- \n",
      " 0   gender          681284 non-null  object\n",
      " 1   age             681284 non-null  object\n",
      " 2   topic           681284 non-null  object\n",
      " 3   sign            681284 non-null  object\n",
      " 4   date            681284 non-null  object\n",
      " 5   text            681284 non-null  object\n",
      " 6   processed_text  674651 non-null  object\n",
      "dtypes: object(7)\n",
      "memory usage: 36.4+ MB\n",
      "------------------------------------------------\n"
     ]
    }
   ],
   "source": [
    "# Before merging the lables, will convert the datatype of 'age' into string\n",
    "blog_temp['age'] = blog_temp['age'].astype('str')\n",
    "\n",
    "# Drop 'id' from the data\n",
    "blog_temp = blog_temp.drop(['id'], axis=1)\n",
    "\n",
    "# Data Info\n",
    "print(\"------------------------------------------------\")\n",
    "blog_temp.info()\n",
    "print(\"------------------------------------------------\")"
   ]
  },
  {
   "cell_type": "code",
   "execution_count": 48,
   "id": "7d7cc7fa",
   "metadata": {},
   "outputs": [
    {
     "data": {
      "text/html": [
       "<div>\n",
       "<style scoped>\n",
       "    .dataframe tbody tr th:only-of-type {\n",
       "        vertical-align: middle;\n",
       "    }\n",
       "\n",
       "    .dataframe tbody tr th {\n",
       "        vertical-align: top;\n",
       "    }\n",
       "\n",
       "    .dataframe thead th {\n",
       "        text-align: right;\n",
       "    }\n",
       "</style>\n",
       "<table border=\"1\" class=\"dataframe\">\n",
       "  <thead>\n",
       "    <tr style=\"text-align: right;\">\n",
       "      <th></th>\n",
       "      <th>gender</th>\n",
       "      <th>age</th>\n",
       "      <th>topic</th>\n",
       "      <th>sign</th>\n",
       "      <th>date</th>\n",
       "      <th>text</th>\n",
       "      <th>processed_text</th>\n",
       "    </tr>\n",
       "  </thead>\n",
       "  <tbody>\n",
       "    <tr>\n",
       "      <th>0</th>\n",
       "      <td>male</td>\n",
       "      <td>15</td>\n",
       "      <td>Student</td>\n",
       "      <td>Leo</td>\n",
       "      <td>14,May,2004</td>\n",
       "      <td>Info has been found (+/- 100 pages,...</td>\n",
       "      <td>info found page mb pdf file wait until team le...</td>\n",
       "    </tr>\n",
       "    <tr>\n",
       "      <th>1</th>\n",
       "      <td>male</td>\n",
       "      <td>15</td>\n",
       "      <td>Student</td>\n",
       "      <td>Leo</td>\n",
       "      <td>13,May,2004</td>\n",
       "      <td>These are the team members:   Drewe...</td>\n",
       "      <td>team member drew van der laag mail ruiyu xie b...</td>\n",
       "    </tr>\n",
       "    <tr>\n",
       "      <th>2</th>\n",
       "      <td>male</td>\n",
       "      <td>15</td>\n",
       "      <td>Student</td>\n",
       "      <td>Leo</td>\n",
       "      <td>12,May,2004</td>\n",
       "      <td>In het kader van kernfusie op aarde...</td>\n",
       "      <td>het kader van kernfusi op aard maak je eigen w...</td>\n",
       "    </tr>\n",
       "    <tr>\n",
       "      <th>3</th>\n",
       "      <td>male</td>\n",
       "      <td>15</td>\n",
       "      <td>Student</td>\n",
       "      <td>Leo</td>\n",
       "      <td>12,May,2004</td>\n",
       "      <td>testing!!!  testing!!!</td>\n",
       "      <td>test</td>\n",
       "    </tr>\n",
       "    <tr>\n",
       "      <th>4</th>\n",
       "      <td>male</td>\n",
       "      <td>33</td>\n",
       "      <td>InvestmentBanking</td>\n",
       "      <td>Aquarius</td>\n",
       "      <td>11,June,2004</td>\n",
       "      <td>Thanks to Yahoo!'s Toolbar I can ...</td>\n",
       "      <td>thank yahoo 's toolbar captur url popup mean s...</td>\n",
       "    </tr>\n",
       "  </tbody>\n",
       "</table>\n",
       "</div>"
      ],
      "text/plain": [
       "  gender age              topic      sign          date  \\\n",
       "0   male  15            Student       Leo   14,May,2004   \n",
       "1   male  15            Student       Leo   13,May,2004   \n",
       "2   male  15            Student       Leo   12,May,2004   \n",
       "3   male  15            Student       Leo   12,May,2004   \n",
       "4   male  33  InvestmentBanking  Aquarius  11,June,2004   \n",
       "\n",
       "                                                text  \\\n",
       "0             Info has been found (+/- 100 pages,...   \n",
       "1             These are the team members:   Drewe...   \n",
       "2             In het kader van kernfusie op aarde...   \n",
       "3                   testing!!!  testing!!!             \n",
       "4               Thanks to Yahoo!'s Toolbar I can ...   \n",
       "\n",
       "                                      processed_text  \n",
       "0  info found page mb pdf file wait until team le...  \n",
       "1  team member drew van der laag mail ruiyu xie b...  \n",
       "2  het kader van kernfusi op aard maak je eigen w...  \n",
       "3                                               test  \n",
       "4  thank yahoo 's toolbar captur url popup mean s...  "
      ]
     },
     "execution_count": 48,
     "metadata": {},
     "output_type": "execute_result"
    }
   ],
   "source": [
    "blog_temp.head()"
   ]
  },
  {
   "cell_type": "code",
   "execution_count": 49,
   "id": "73c7e3f7",
   "metadata": {},
   "outputs": [],
   "source": [
    "# Merging all the labels\n",
    "blog_temp['labels'] = blog_temp[['gender','age','topic','sign']].values.tolist()"
   ]
  },
  {
   "cell_type": "code",
   "execution_count": 50,
   "id": "615ac34f",
   "metadata": {},
   "outputs": [
    {
     "name": "stdout",
     "output_type": "stream",
     "text": [
      "------------------------------------------------\n",
      "<class 'pandas.core.frame.DataFrame'>\n",
      "RangeIndex: 681284 entries, 0 to 681283\n",
      "Data columns (total 8 columns):\n",
      " #   Column          Non-Null Count   Dtype \n",
      "---  ------          --------------   ----- \n",
      " 0   gender          681284 non-null  object\n",
      " 1   age             681284 non-null  object\n",
      " 2   topic           681284 non-null  object\n",
      " 3   sign            681284 non-null  object\n",
      " 4   date            681284 non-null  object\n",
      " 5   text            681284 non-null  object\n",
      " 6   processed_text  674651 non-null  object\n",
      " 7   labels          681284 non-null  object\n",
      "dtypes: object(8)\n",
      "memory usage: 41.6+ MB\n",
      "------------------------------------------------\n"
     ]
    }
   ],
   "source": [
    "# Data Info\n",
    "print(\"------------------------------------------------\")\n",
    "blog_temp.info()\n",
    "print(\"------------------------------------------------\")"
   ]
  },
  {
   "cell_type": "code",
   "execution_count": 51,
   "id": "7859230c",
   "metadata": {},
   "outputs": [
    {
     "data": {
      "text/plain": [
       "['male', '34', 'indUnk', 'Aries']           4712\n",
       "['female', '23', 'indUnk', 'Aries']         3678\n",
       "['female', '16', 'Student', 'Libra']        3573\n",
       "['female', '16', 'Student', 'Aries']        3556\n",
       "['female', '26', 'indUnk', 'Cancer']        3471\n",
       "['female', '38', 'indUnk', 'Virgo']         3242\n",
       "['female', '23', 'indUnk', 'Scorpio']       3013\n",
       "['female', '34', 'indUnk', 'Cancer']        2989\n",
       "['female', '17', 'Student', 'Capricorn']    2888\n",
       "['female', '17', 'Student', 'Libra']        2788\n",
       "['female', '24', 'indUnk', 'Libra']         2622\n",
       "['female', '16', 'Student', 'Aquarius']     2618\n",
       "['female', '24', 'indUnk', 'Aries']         2601\n",
       "['female', '24', 'Arts', 'Libra']           2585\n",
       "['male', '25', 'indUnk', 'Leo']             2435\n",
       "['male', '24', 'indUnk', 'Taurus']          2427\n",
       "['male', '17', 'Student', 'Cancer']         2315\n",
       "['male', '35', 'Technology', 'Aries']       2309\n",
       "['male', '16', 'indUnk', 'Cancer']          2307\n",
       "['male', '16', 'Student', 'Virgo']          2300\n",
       "['male', '16', 'Student', 'Pisces']         2273\n",
       "['male', '17', 'Non-Profit', 'Gemini']      2250\n",
       "['male', '17', 'Student', 'Virgo']          2186\n",
       "['female', '17', 'indUnk', 'Aquarius']      2185\n",
       "['male', '16', 'Student', 'Scorpio']        2167\n",
       "Name: labels, dtype: int64"
      ]
     },
     "execution_count": 51,
     "metadata": {},
     "output_type": "execute_result"
    }
   ],
   "source": [
    "# Top 25 frequent bloggers\n",
    "blog_temp.labels.astype('str').value_counts()[:25]"
   ]
  },
  {
   "cell_type": "code",
   "execution_count": 52,
   "id": "6afdef40",
   "metadata": {},
   "outputs": [
    {
     "data": {
      "text/html": [
       "<div>\n",
       "<style scoped>\n",
       "    .dataframe tbody tr th:only-of-type {\n",
       "        vertical-align: middle;\n",
       "    }\n",
       "\n",
       "    .dataframe tbody tr th {\n",
       "        vertical-align: top;\n",
       "    }\n",
       "\n",
       "    .dataframe thead th {\n",
       "        text-align: right;\n",
       "    }\n",
       "</style>\n",
       "<table border=\"1\" class=\"dataframe\">\n",
       "  <thead>\n",
       "    <tr style=\"text-align: right;\">\n",
       "      <th>Word</th>\n",
       "      <th>go</th>\n",
       "      <th>'s</th>\n",
       "      <th>get</th>\n",
       "      <th>n't</th>\n",
       "      <th>like</th>\n",
       "      <th>time</th>\n",
       "      <th>one</th>\n",
       "      <th>think</th>\n",
       "      <th>know</th>\n",
       "      <th>day</th>\n",
       "      <th>...</th>\n",
       "      <th>say</th>\n",
       "      <th>work</th>\n",
       "      <th>realli</th>\n",
       "      <th>look</th>\n",
       "      <th>good</th>\n",
       "      <th>see</th>\n",
       "      <th>would</th>\n",
       "      <th>got</th>\n",
       "      <th>come</th>\n",
       "      <th>feel</th>\n",
       "    </tr>\n",
       "  </thead>\n",
       "  <tbody>\n",
       "    <tr>\n",
       "      <th>Count</th>\n",
       "      <td>363911</td>\n",
       "      <td>343539</td>\n",
       "      <td>305909</td>\n",
       "      <td>295834</td>\n",
       "      <td>287100</td>\n",
       "      <td>253235</td>\n",
       "      <td>252792</td>\n",
       "      <td>228798</td>\n",
       "      <td>226549</td>\n",
       "      <td>217529</td>\n",
       "      <td>...</td>\n",
       "      <td>179185</td>\n",
       "      <td>178219</td>\n",
       "      <td>176159</td>\n",
       "      <td>175748</td>\n",
       "      <td>175647</td>\n",
       "      <td>174386</td>\n",
       "      <td>163832</td>\n",
       "      <td>159581</td>\n",
       "      <td>156554</td>\n",
       "      <td>154579</td>\n",
       "    </tr>\n",
       "  </tbody>\n",
       "</table>\n",
       "<p>1 rows × 25 columns</p>\n",
       "</div>"
      ],
      "text/plain": [
       "Word       go      's     get     n't    like    time     one   think    know  \\\n",
       "Count  363911  343539  305909  295834  287100  253235  252792  228798  226549   \n",
       "\n",
       "Word      day  ...     say    work  realli    look    good     see   would  \\\n",
       "Count  217529  ...  179185  178219  176159  175748  175647  174386  163832   \n",
       "\n",
       "Word      got    come    feel  \n",
       "Count  159581  156554  154579  \n",
       "\n",
       "[1 rows x 25 columns]"
      ]
     },
     "execution_count": 52,
     "metadata": {},
     "output_type": "execute_result"
    }
   ],
   "source": [
    "from collections import Counter\n",
    "\n",
    "# Top 25 frequently used words\n",
    "_words = (blog_temp.processed_text.str.cat(sep=' ').split())\n",
    "_count = pd.DataFrame(Counter(_words).most_common(25),\n",
    "                    columns=['Word', 'Count']).set_index('Word')\n",
    "_count[:25].transpose()"
   ]
  },
  {
   "cell_type": "markdown",
   "id": "48aed302",
   "metadata": {},
   "source": [
    "#### Drop un-used column from data set***"
   ]
  },
  {
   "cell_type": "code",
   "execution_count": 53,
   "id": "521f497b",
   "metadata": {},
   "outputs": [],
   "source": [
    "# Drop the unused columns from the data\n",
    "blog_clean_df = blog_temp.drop(columns = ['gender','age','topic','sign','date', 'text'])"
   ]
  },
  {
   "cell_type": "code",
   "execution_count": 54,
   "id": "2659aa74",
   "metadata": {},
   "outputs": [
    {
     "name": "stdout",
     "output_type": "stream",
     "text": [
      "------------------------------------------------\n",
      "<class 'pandas.core.frame.DataFrame'>\n",
      "RangeIndex: 681284 entries, 0 to 681283\n",
      "Data columns (total 2 columns):\n",
      " #   Column          Non-Null Count   Dtype \n",
      "---  ------          --------------   ----- \n",
      " 0   processed_text  674651 non-null  object\n",
      " 1   labels          681284 non-null  object\n",
      "dtypes: object(2)\n",
      "memory usage: 10.4+ MB\n",
      "------------------------------------------------\n"
     ]
    }
   ],
   "source": [
    "# Data Info\n",
    "print(\"------------------------------------------------\")\n",
    "blog_clean_df.info()\n",
    "print(\"------------------------------------------------\")"
   ]
  },
  {
   "cell_type": "code",
   "execution_count": 55,
   "id": "ddb1a11a",
   "metadata": {},
   "outputs": [
    {
     "data": {
      "text/html": [
       "<div>\n",
       "<style scoped>\n",
       "    .dataframe tbody tr th:only-of-type {\n",
       "        vertical-align: middle;\n",
       "    }\n",
       "\n",
       "    .dataframe tbody tr th {\n",
       "        vertical-align: top;\n",
       "    }\n",
       "\n",
       "    .dataframe thead th {\n",
       "        text-align: right;\n",
       "    }\n",
       "</style>\n",
       "<table border=\"1\" class=\"dataframe\">\n",
       "  <thead>\n",
       "    <tr style=\"text-align: right;\">\n",
       "      <th></th>\n",
       "      <th>processed_text</th>\n",
       "      <th>labels</th>\n",
       "    </tr>\n",
       "  </thead>\n",
       "  <tbody>\n",
       "    <tr>\n",
       "      <th>0</th>\n",
       "      <td>info found page mb pdf file wait until team le...</td>\n",
       "      <td>[male, 15, Student, Leo]</td>\n",
       "    </tr>\n",
       "    <tr>\n",
       "      <th>1</th>\n",
       "      <td>team member drew van der laag mail ruiyu xie b...</td>\n",
       "      <td>[male, 15, Student, Leo]</td>\n",
       "    </tr>\n",
       "    <tr>\n",
       "      <th>2</th>\n",
       "      <td>het kader van kernfusi op aard maak je eigen w...</td>\n",
       "      <td>[male, 15, Student, Leo]</td>\n",
       "    </tr>\n",
       "    <tr>\n",
       "      <th>3</th>\n",
       "      <td>test</td>\n",
       "      <td>[male, 15, Student, Leo]</td>\n",
       "    </tr>\n",
       "    <tr>\n",
       "      <th>4</th>\n",
       "      <td>thank yahoo 's toolbar captur url popup mean s...</td>\n",
       "      <td>[male, 33, InvestmentBanking, Aquarius]</td>\n",
       "    </tr>\n",
       "  </tbody>\n",
       "</table>\n",
       "</div>"
      ],
      "text/plain": [
       "                                      processed_text  \\\n",
       "0  info found page mb pdf file wait until team le...   \n",
       "1  team member drew van der laag mail ruiyu xie b...   \n",
       "2  het kader van kernfusi op aard maak je eigen w...   \n",
       "3                                               test   \n",
       "4  thank yahoo 's toolbar captur url popup mean s...   \n",
       "\n",
       "                                    labels  \n",
       "0                 [male, 15, Student, Leo]  \n",
       "1                 [male, 15, Student, Leo]  \n",
       "2                 [male, 15, Student, Leo]  \n",
       "3                 [male, 15, Student, Leo]  \n",
       "4  [male, 33, InvestmentBanking, Aquarius]  "
      ]
     },
     "execution_count": 55,
     "metadata": {},
     "output_type": "execute_result"
    }
   ],
   "source": [
    "blog_clean_df.head()"
   ]
  },
  {
   "cell_type": "code",
   "execution_count": 56,
   "id": "2166f9a9",
   "metadata": {},
   "outputs": [
    {
     "data": {
      "text/plain": [
       "processed_text    6633\n",
       "labels               0\n",
       "dtype: int64"
      ]
     },
     "execution_count": 56,
     "metadata": {},
     "output_type": "execute_result"
    }
   ],
   "source": [
    "blog_clean_df.isna().sum()"
   ]
  },
  {
   "cell_type": "markdown",
   "id": "b3ab02b3",
   "metadata": {},
   "source": [
    "### Drop all the null values from processed_text"
   ]
  },
  {
   "cell_type": "code",
   "execution_count": 57,
   "id": "a0ec2f9b",
   "metadata": {},
   "outputs": [],
   "source": [
    "blog_working_df = blog_clean_df.dropna(how='all')"
   ]
  },
  {
   "cell_type": "code",
   "execution_count": 58,
   "id": "d88b9895",
   "metadata": {},
   "outputs": [],
   "source": [
    "blog_clean_df = blog_clean_df[blog_clean_df['processed_text'].notna()]"
   ]
  },
  {
   "cell_type": "code",
   "execution_count": 59,
   "id": "a1a582bb",
   "metadata": {},
   "outputs": [
    {
     "data": {
      "text/plain": [
       "processed_text    0\n",
       "labels            0\n",
       "dtype: int64"
      ]
     },
     "execution_count": 59,
     "metadata": {},
     "output_type": "execute_result"
    }
   ],
   "source": [
    "blog_clean_df.isna().sum()"
   ]
  },
  {
   "cell_type": "code",
   "execution_count": 60,
   "id": "e7c1a63a",
   "metadata": {},
   "outputs": [
    {
     "name": "stdout",
     "output_type": "stream",
     "text": [
      "------------------------------------------------\n",
      "Number of rows : 674651\n",
      "Number of cols : 2\n",
      "------------------------------------------------\n"
     ]
    }
   ],
   "source": [
    "print_df_shape(blog_clean_df)"
   ]
  },
  {
   "cell_type": "code",
   "execution_count": 61,
   "id": "5bb8a5d0",
   "metadata": {},
   "outputs": [
    {
     "name": "stdout",
     "output_type": "stream",
     "text": [
      "<class 'pandas.core.frame.DataFrame'>\n",
      "Int64Index: 50000 entries, 515471 to 245590\n",
      "Data columns (total 2 columns):\n",
      " #   Column          Non-Null Count  Dtype \n",
      "---  ------          --------------  ----- \n",
      " 0   processed_text  50000 non-null  object\n",
      " 1   labels          50000 non-null  object\n",
      "dtypes: object(2)\n",
      "memory usage: 1.1+ MB\n"
     ]
    }
   ],
   "source": [
    "blog_clean_df = blog_clean_df.sample(50000, random_state=1)\n",
    "blog_clean_df.info()"
   ]
  },
  {
   "cell_type": "code",
   "execution_count": 62,
   "id": "0baf0594",
   "metadata": {},
   "outputs": [
    {
     "name": "stdout",
     "output_type": "stream",
     "text": [
      "------------------------------------------------\n",
      "Number of rows : 50000\n",
      "Number of cols : 2\n",
      "------------------------------------------------\n"
     ]
    }
   ],
   "source": [
    "print_df_shape(blog_clean_df)"
   ]
  },
  {
   "cell_type": "markdown",
   "id": "04d1db74",
   "metadata": {},
   "source": [
    "#### Split the Data into Train and test data set"
   ]
  },
  {
   "cell_type": "code",
   "execution_count": 63,
   "id": "9a346256",
   "metadata": {},
   "outputs": [],
   "source": [
    "# Train / Split the data as 80:20\n",
    "X_train, X_test, y_train, y_test = train_test_split(blog_clean_df['processed_text'], \n",
    "                                                    blog_clean_df['labels'], \n",
    "                                                    test_size=0.20)"
   ]
  },
  {
   "cell_type": "code",
   "execution_count": 64,
   "id": "9b74091b",
   "metadata": {},
   "outputs": [
    {
     "name": "stdout",
     "output_type": "stream",
     "text": [
      "------------------------------------------------\n",
      "   (40000,) (40000,) (10000,) (10000,)\n",
      "------------------------------------------------\n"
     ]
    }
   ],
   "source": [
    "# Data Shape\n",
    "print(\"------------------------------------------------\")\n",
    "print(\"  \", X_train.shape, y_train.shape, X_test.shape, y_test.shape)\n",
    "print(\"------------------------------------------------\")"
   ]
  },
  {
   "cell_type": "markdown",
   "id": "e70501a2",
   "metadata": {},
   "source": [
    "### Vectorisation"
   ]
  },
  {
   "cell_type": "code",
   "execution_count": 65,
   "id": "f56f33a3",
   "metadata": {},
   "outputs": [],
   "source": [
    "# Vectorization\n",
    "vectorizer = CountVectorizer(analyzer='word',token_pattern=r'\\w{1,}',ngram_range=(1,3),stop_words='english',min_df=0.15,max_df=0.8)"
   ]
  },
  {
   "cell_type": "code",
   "execution_count": 66,
   "id": "f4a550ff",
   "metadata": {},
   "outputs": [
    {
     "data": {
      "text/plain": [
       "(40000, 38)"
      ]
     },
     "execution_count": 66,
     "metadata": {},
     "output_type": "execute_result"
    }
   ],
   "source": [
    "X_train_vect = vectorizer.fit_transform(X_train)\n",
    "X_train_vect.shape"
   ]
  },
  {
   "cell_type": "code",
   "execution_count": 67,
   "id": "c5d9ac57",
   "metadata": {},
   "outputs": [
    {
     "data": {
      "text/plain": [
       "(10000, 38)"
      ]
     },
     "execution_count": 67,
     "metadata": {},
     "output_type": "execute_result"
    }
   ],
   "source": [
    "X_test_vect = vectorizer.transform(X_test)\n",
    "X_test_vect.shape"
   ]
  },
  {
   "cell_type": "code",
   "execution_count": 68,
   "id": "c3c2197a",
   "metadata": {},
   "outputs": [
    {
     "data": {
      "text/plain": [
       "['come', 'day', 'feel', 'friend', 'good', 'got', 'know', 'life', 'like', 'll']"
      ]
     },
     "execution_count": 68,
     "metadata": {},
     "output_type": "execute_result"
    }
   ],
   "source": [
    "vectorizer.get_feature_names()[:10]"
   ]
  },
  {
   "cell_type": "code",
   "execution_count": 69,
   "id": "a9ed2ef3",
   "metadata": {},
   "outputs": [
    {
     "name": "stdout",
     "output_type": "stream",
     "text": [
      "  (2, 14)\t1\n",
      "  (2, 26)\t1\n",
      "  (2, 6)\t1\n",
      "  (2, 29)\t1\n",
      "  (2, 2)\t1\n",
      "  (2, 8)\t1\n",
      "  (2, 35)\t2\n",
      "  (2, 28)\t2\n",
      "  (2, 3)\t2\n",
      "  (2, 31)\t2\n",
      "  (2, 22)\t1\n",
      "  (2, 13)\t1\n",
      "  (2, 25)\t2\n",
      "  (2, 4)\t1\n",
      "  (2, 16)\t1\n",
      "  (2, 32)\t1\n",
      "  (2, 21)\t1\n",
      "  (2, 10)\t1\n",
      "  (2, 19)\t1\n",
      "  (2, 33)\t1\n",
      "  (2, 34)\t1\n",
      "  (2, 7)\t2\n",
      "  (2, 12)\t1\n",
      "  (2, 27)\t1\n",
      "  (2, 0)\t1\n",
      "  (2, 20)\t1\n",
      "  (2, 15)\t1 ['come', 'day', 'feel']\n"
     ]
    }
   ],
   "source": [
    "print(X_train_vect[:3], vectorizer.get_feature_names()[:3])"
   ]
  },
  {
   "cell_type": "code",
   "execution_count": 70,
   "id": "1d1ec605",
   "metadata": {},
   "outputs": [
    {
     "data": {
      "text/plain": [
       "(1, 38)"
      ]
     },
     "execution_count": 70,
     "metadata": {},
     "output_type": "execute_result"
    }
   ],
   "source": [
    "X_train_vect[0].shape"
   ]
  },
  {
   "cell_type": "code",
   "execution_count": 71,
   "id": "f0703c2a",
   "metadata": {},
   "outputs": [
    {
     "data": {
      "text/html": [
       "<div>\n",
       "<style scoped>\n",
       "    .dataframe tbody tr th:only-of-type {\n",
       "        vertical-align: middle;\n",
       "    }\n",
       "\n",
       "    .dataframe tbody tr th {\n",
       "        vertical-align: top;\n",
       "    }\n",
       "\n",
       "    .dataframe thead th {\n",
       "        text-align: right;\n",
       "    }\n",
       "</style>\n",
       "<table border=\"1\" class=\"dataframe\">\n",
       "  <thead>\n",
       "    <tr style=\"text-align: right;\">\n",
       "      <th></th>\n",
       "      <th>come</th>\n",
       "      <th>day</th>\n",
       "      <th>feel</th>\n",
       "      <th>friend</th>\n",
       "      <th>good</th>\n",
       "      <th>got</th>\n",
       "      <th>know</th>\n",
       "      <th>life</th>\n",
       "      <th>like</th>\n",
       "      <th>ll</th>\n",
       "      <th>...</th>\n",
       "      <th>think</th>\n",
       "      <th>time</th>\n",
       "      <th>today</th>\n",
       "      <th>tri</th>\n",
       "      <th>u</th>\n",
       "      <th>ve</th>\n",
       "      <th>want</th>\n",
       "      <th>way</th>\n",
       "      <th>work</th>\n",
       "      <th>year</th>\n",
       "    </tr>\n",
       "  </thead>\n",
       "  <tbody>\n",
       "    <tr>\n",
       "      <th>0</th>\n",
       "      <td>0</td>\n",
       "      <td>0</td>\n",
       "      <td>0</td>\n",
       "      <td>0</td>\n",
       "      <td>0</td>\n",
       "      <td>0</td>\n",
       "      <td>0</td>\n",
       "      <td>0</td>\n",
       "      <td>0</td>\n",
       "      <td>0</td>\n",
       "      <td>...</td>\n",
       "      <td>0</td>\n",
       "      <td>0</td>\n",
       "      <td>0</td>\n",
       "      <td>0</td>\n",
       "      <td>0</td>\n",
       "      <td>0</td>\n",
       "      <td>0</td>\n",
       "      <td>0</td>\n",
       "      <td>0</td>\n",
       "      <td>0</td>\n",
       "    </tr>\n",
       "    <tr>\n",
       "      <th>1</th>\n",
       "      <td>0</td>\n",
       "      <td>0</td>\n",
       "      <td>0</td>\n",
       "      <td>0</td>\n",
       "      <td>0</td>\n",
       "      <td>0</td>\n",
       "      <td>0</td>\n",
       "      <td>0</td>\n",
       "      <td>0</td>\n",
       "      <td>0</td>\n",
       "      <td>...</td>\n",
       "      <td>0</td>\n",
       "      <td>0</td>\n",
       "      <td>0</td>\n",
       "      <td>0</td>\n",
       "      <td>0</td>\n",
       "      <td>0</td>\n",
       "      <td>0</td>\n",
       "      <td>0</td>\n",
       "      <td>0</td>\n",
       "      <td>0</td>\n",
       "    </tr>\n",
       "    <tr>\n",
       "      <th>2</th>\n",
       "      <td>1</td>\n",
       "      <td>0</td>\n",
       "      <td>1</td>\n",
       "      <td>2</td>\n",
       "      <td>1</td>\n",
       "      <td>0</td>\n",
       "      <td>1</td>\n",
       "      <td>2</td>\n",
       "      <td>1</td>\n",
       "      <td>0</td>\n",
       "      <td>...</td>\n",
       "      <td>2</td>\n",
       "      <td>1</td>\n",
       "      <td>0</td>\n",
       "      <td>2</td>\n",
       "      <td>1</td>\n",
       "      <td>1</td>\n",
       "      <td>1</td>\n",
       "      <td>2</td>\n",
       "      <td>0</td>\n",
       "      <td>0</td>\n",
       "    </tr>\n",
       "    <tr>\n",
       "      <th>3</th>\n",
       "      <td>0</td>\n",
       "      <td>0</td>\n",
       "      <td>2</td>\n",
       "      <td>0</td>\n",
       "      <td>0</td>\n",
       "      <td>0</td>\n",
       "      <td>1</td>\n",
       "      <td>0</td>\n",
       "      <td>1</td>\n",
       "      <td>0</td>\n",
       "      <td>...</td>\n",
       "      <td>1</td>\n",
       "      <td>1</td>\n",
       "      <td>0</td>\n",
       "      <td>1</td>\n",
       "      <td>0</td>\n",
       "      <td>1</td>\n",
       "      <td>0</td>\n",
       "      <td>1</td>\n",
       "      <td>1</td>\n",
       "      <td>0</td>\n",
       "    </tr>\n",
       "    <tr>\n",
       "      <th>4</th>\n",
       "      <td>0</td>\n",
       "      <td>0</td>\n",
       "      <td>0</td>\n",
       "      <td>0</td>\n",
       "      <td>0</td>\n",
       "      <td>0</td>\n",
       "      <td>2</td>\n",
       "      <td>0</td>\n",
       "      <td>0</td>\n",
       "      <td>0</td>\n",
       "      <td>...</td>\n",
       "      <td>1</td>\n",
       "      <td>0</td>\n",
       "      <td>0</td>\n",
       "      <td>1</td>\n",
       "      <td>0</td>\n",
       "      <td>0</td>\n",
       "      <td>1</td>\n",
       "      <td>0</td>\n",
       "      <td>0</td>\n",
       "      <td>0</td>\n",
       "    </tr>\n",
       "    <tr>\n",
       "      <th>...</th>\n",
       "      <td>...</td>\n",
       "      <td>...</td>\n",
       "      <td>...</td>\n",
       "      <td>...</td>\n",
       "      <td>...</td>\n",
       "      <td>...</td>\n",
       "      <td>...</td>\n",
       "      <td>...</td>\n",
       "      <td>...</td>\n",
       "      <td>...</td>\n",
       "      <td>...</td>\n",
       "      <td>...</td>\n",
       "      <td>...</td>\n",
       "      <td>...</td>\n",
       "      <td>...</td>\n",
       "      <td>...</td>\n",
       "      <td>...</td>\n",
       "      <td>...</td>\n",
       "      <td>...</td>\n",
       "      <td>...</td>\n",
       "      <td>...</td>\n",
       "    </tr>\n",
       "    <tr>\n",
       "      <th>39995</th>\n",
       "      <td>0</td>\n",
       "      <td>0</td>\n",
       "      <td>0</td>\n",
       "      <td>0</td>\n",
       "      <td>0</td>\n",
       "      <td>1</td>\n",
       "      <td>0</td>\n",
       "      <td>0</td>\n",
       "      <td>0</td>\n",
       "      <td>0</td>\n",
       "      <td>...</td>\n",
       "      <td>0</td>\n",
       "      <td>0</td>\n",
       "      <td>1</td>\n",
       "      <td>0</td>\n",
       "      <td>0</td>\n",
       "      <td>0</td>\n",
       "      <td>0</td>\n",
       "      <td>0</td>\n",
       "      <td>0</td>\n",
       "      <td>0</td>\n",
       "    </tr>\n",
       "    <tr>\n",
       "      <th>39996</th>\n",
       "      <td>0</td>\n",
       "      <td>1</td>\n",
       "      <td>0</td>\n",
       "      <td>0</td>\n",
       "      <td>1</td>\n",
       "      <td>0</td>\n",
       "      <td>2</td>\n",
       "      <td>1</td>\n",
       "      <td>0</td>\n",
       "      <td>0</td>\n",
       "      <td>...</td>\n",
       "      <td>0</td>\n",
       "      <td>1</td>\n",
       "      <td>0</td>\n",
       "      <td>0</td>\n",
       "      <td>1</td>\n",
       "      <td>0</td>\n",
       "      <td>0</td>\n",
       "      <td>0</td>\n",
       "      <td>1</td>\n",
       "      <td>0</td>\n",
       "    </tr>\n",
       "    <tr>\n",
       "      <th>39997</th>\n",
       "      <td>0</td>\n",
       "      <td>0</td>\n",
       "      <td>0</td>\n",
       "      <td>0</td>\n",
       "      <td>0</td>\n",
       "      <td>0</td>\n",
       "      <td>0</td>\n",
       "      <td>0</td>\n",
       "      <td>1</td>\n",
       "      <td>0</td>\n",
       "      <td>...</td>\n",
       "      <td>0</td>\n",
       "      <td>0</td>\n",
       "      <td>0</td>\n",
       "      <td>0</td>\n",
       "      <td>1</td>\n",
       "      <td>0</td>\n",
       "      <td>1</td>\n",
       "      <td>0</td>\n",
       "      <td>0</td>\n",
       "      <td>1</td>\n",
       "    </tr>\n",
       "    <tr>\n",
       "      <th>39998</th>\n",
       "      <td>1</td>\n",
       "      <td>1</td>\n",
       "      <td>0</td>\n",
       "      <td>0</td>\n",
       "      <td>0</td>\n",
       "      <td>0</td>\n",
       "      <td>1</td>\n",
       "      <td>0</td>\n",
       "      <td>0</td>\n",
       "      <td>0</td>\n",
       "      <td>...</td>\n",
       "      <td>0</td>\n",
       "      <td>0</td>\n",
       "      <td>0</td>\n",
       "      <td>0</td>\n",
       "      <td>0</td>\n",
       "      <td>0</td>\n",
       "      <td>0</td>\n",
       "      <td>0</td>\n",
       "      <td>0</td>\n",
       "      <td>0</td>\n",
       "    </tr>\n",
       "    <tr>\n",
       "      <th>39999</th>\n",
       "      <td>0</td>\n",
       "      <td>0</td>\n",
       "      <td>0</td>\n",
       "      <td>0</td>\n",
       "      <td>0</td>\n",
       "      <td>1</td>\n",
       "      <td>0</td>\n",
       "      <td>0</td>\n",
       "      <td>0</td>\n",
       "      <td>0</td>\n",
       "      <td>...</td>\n",
       "      <td>0</td>\n",
       "      <td>0</td>\n",
       "      <td>0</td>\n",
       "      <td>0</td>\n",
       "      <td>0</td>\n",
       "      <td>0</td>\n",
       "      <td>0</td>\n",
       "      <td>0</td>\n",
       "      <td>0</td>\n",
       "      <td>0</td>\n",
       "    </tr>\n",
       "  </tbody>\n",
       "</table>\n",
       "<p>40000 rows × 38 columns</p>\n",
       "</div>"
      ],
      "text/plain": [
       "       come  day  feel  friend  good  got  know  life  like  ll  ...  think  \\\n",
       "0         0    0     0       0     0    0     0     0     0   0  ...      0   \n",
       "1         0    0     0       0     0    0     0     0     0   0  ...      0   \n",
       "2         1    0     1       2     1    0     1     2     1   0  ...      2   \n",
       "3         0    0     2       0     0    0     1     0     1   0  ...      1   \n",
       "4         0    0     0       0     0    0     2     0     0   0  ...      1   \n",
       "...     ...  ...   ...     ...   ...  ...   ...   ...   ...  ..  ...    ...   \n",
       "39995     0    0     0       0     0    1     0     0     0   0  ...      0   \n",
       "39996     0    1     0       0     1    0     2     1     0   0  ...      0   \n",
       "39997     0    0     0       0     0    0     0     0     1   0  ...      0   \n",
       "39998     1    1     0       0     0    0     1     0     0   0  ...      0   \n",
       "39999     0    0     0       0     0    1     0     0     0   0  ...      0   \n",
       "\n",
       "       time  today  tri  u  ve  want  way  work  year  \n",
       "0         0      0    0  0   0     0    0     0     0  \n",
       "1         0      0    0  0   0     0    0     0     0  \n",
       "2         1      0    2  1   1     1    2     0     0  \n",
       "3         1      0    1  0   1     0    1     1     0  \n",
       "4         0      0    1  0   0     1    0     0     0  \n",
       "...     ...    ...  ... ..  ..   ...  ...   ...   ...  \n",
       "39995     0      1    0  0   0     0    0     0     0  \n",
       "39996     1      0    0  1   0     0    0     1     0  \n",
       "39997     0      0    0  1   0     1    0     0     1  \n",
       "39998     0      0    0  0   0     0    0     0     0  \n",
       "39999     0      0    0  0   0     0    0     0     0  \n",
       "\n",
       "[40000 rows x 38 columns]"
      ]
     },
     "execution_count": 71,
     "metadata": {},
     "output_type": "execute_result"
    }
   ],
   "source": [
    "pd.DataFrame(data=X_train_vect.toarray(),columns=vectorizer.get_feature_names())"
   ]
  },
  {
   "cell_type": "code",
   "execution_count": 72,
   "id": "2afbd311",
   "metadata": {},
   "outputs": [
    {
     "data": {
      "text/html": [
       "<div>\n",
       "<style scoped>\n",
       "    .dataframe tbody tr th:only-of-type {\n",
       "        vertical-align: middle;\n",
       "    }\n",
       "\n",
       "    .dataframe tbody tr th {\n",
       "        vertical-align: top;\n",
       "    }\n",
       "\n",
       "    .dataframe thead th {\n",
       "        text-align: right;\n",
       "    }\n",
       "</style>\n",
       "<table border=\"1\" class=\"dataframe\">\n",
       "  <thead>\n",
       "    <tr style=\"text-align: right;\">\n",
       "      <th></th>\n",
       "      <th>come</th>\n",
       "      <th>day</th>\n",
       "      <th>feel</th>\n",
       "      <th>friend</th>\n",
       "      <th>good</th>\n",
       "      <th>got</th>\n",
       "      <th>know</th>\n",
       "      <th>life</th>\n",
       "      <th>like</th>\n",
       "      <th>ll</th>\n",
       "      <th>...</th>\n",
       "      <th>think</th>\n",
       "      <th>time</th>\n",
       "      <th>today</th>\n",
       "      <th>tri</th>\n",
       "      <th>u</th>\n",
       "      <th>ve</th>\n",
       "      <th>want</th>\n",
       "      <th>way</th>\n",
       "      <th>work</th>\n",
       "      <th>year</th>\n",
       "    </tr>\n",
       "  </thead>\n",
       "  <tbody>\n",
       "    <tr>\n",
       "      <th>0</th>\n",
       "      <td>0</td>\n",
       "      <td>0</td>\n",
       "      <td>0</td>\n",
       "      <td>0</td>\n",
       "      <td>0</td>\n",
       "      <td>0</td>\n",
       "      <td>0</td>\n",
       "      <td>0</td>\n",
       "      <td>0</td>\n",
       "      <td>0</td>\n",
       "      <td>...</td>\n",
       "      <td>0</td>\n",
       "      <td>0</td>\n",
       "      <td>0</td>\n",
       "      <td>1</td>\n",
       "      <td>0</td>\n",
       "      <td>0</td>\n",
       "      <td>0</td>\n",
       "      <td>0</td>\n",
       "      <td>0</td>\n",
       "      <td>0</td>\n",
       "    </tr>\n",
       "    <tr>\n",
       "      <th>1</th>\n",
       "      <td>0</td>\n",
       "      <td>0</td>\n",
       "      <td>0</td>\n",
       "      <td>0</td>\n",
       "      <td>0</td>\n",
       "      <td>0</td>\n",
       "      <td>0</td>\n",
       "      <td>0</td>\n",
       "      <td>0</td>\n",
       "      <td>0</td>\n",
       "      <td>...</td>\n",
       "      <td>0</td>\n",
       "      <td>0</td>\n",
       "      <td>0</td>\n",
       "      <td>0</td>\n",
       "      <td>0</td>\n",
       "      <td>0</td>\n",
       "      <td>0</td>\n",
       "      <td>0</td>\n",
       "      <td>0</td>\n",
       "      <td>0</td>\n",
       "    </tr>\n",
       "    <tr>\n",
       "      <th>2</th>\n",
       "      <td>0</td>\n",
       "      <td>0</td>\n",
       "      <td>0</td>\n",
       "      <td>0</td>\n",
       "      <td>1</td>\n",
       "      <td>0</td>\n",
       "      <td>0</td>\n",
       "      <td>0</td>\n",
       "      <td>0</td>\n",
       "      <td>0</td>\n",
       "      <td>...</td>\n",
       "      <td>0</td>\n",
       "      <td>1</td>\n",
       "      <td>1</td>\n",
       "      <td>1</td>\n",
       "      <td>0</td>\n",
       "      <td>0</td>\n",
       "      <td>1</td>\n",
       "      <td>0</td>\n",
       "      <td>0</td>\n",
       "      <td>1</td>\n",
       "    </tr>\n",
       "    <tr>\n",
       "      <th>3</th>\n",
       "      <td>0</td>\n",
       "      <td>1</td>\n",
       "      <td>0</td>\n",
       "      <td>1</td>\n",
       "      <td>0</td>\n",
       "      <td>0</td>\n",
       "      <td>0</td>\n",
       "      <td>0</td>\n",
       "      <td>1</td>\n",
       "      <td>0</td>\n",
       "      <td>...</td>\n",
       "      <td>0</td>\n",
       "      <td>1</td>\n",
       "      <td>1</td>\n",
       "      <td>0</td>\n",
       "      <td>0</td>\n",
       "      <td>0</td>\n",
       "      <td>1</td>\n",
       "      <td>0</td>\n",
       "      <td>1</td>\n",
       "      <td>0</td>\n",
       "    </tr>\n",
       "    <tr>\n",
       "      <th>4</th>\n",
       "      <td>0</td>\n",
       "      <td>0</td>\n",
       "      <td>0</td>\n",
       "      <td>0</td>\n",
       "      <td>0</td>\n",
       "      <td>0</td>\n",
       "      <td>0</td>\n",
       "      <td>0</td>\n",
       "      <td>0</td>\n",
       "      <td>0</td>\n",
       "      <td>...</td>\n",
       "      <td>0</td>\n",
       "      <td>0</td>\n",
       "      <td>0</td>\n",
       "      <td>0</td>\n",
       "      <td>0</td>\n",
       "      <td>0</td>\n",
       "      <td>0</td>\n",
       "      <td>0</td>\n",
       "      <td>0</td>\n",
       "      <td>0</td>\n",
       "    </tr>\n",
       "    <tr>\n",
       "      <th>...</th>\n",
       "      <td>...</td>\n",
       "      <td>...</td>\n",
       "      <td>...</td>\n",
       "      <td>...</td>\n",
       "      <td>...</td>\n",
       "      <td>...</td>\n",
       "      <td>...</td>\n",
       "      <td>...</td>\n",
       "      <td>...</td>\n",
       "      <td>...</td>\n",
       "      <td>...</td>\n",
       "      <td>...</td>\n",
       "      <td>...</td>\n",
       "      <td>...</td>\n",
       "      <td>...</td>\n",
       "      <td>...</td>\n",
       "      <td>...</td>\n",
       "      <td>...</td>\n",
       "      <td>...</td>\n",
       "      <td>...</td>\n",
       "      <td>...</td>\n",
       "    </tr>\n",
       "    <tr>\n",
       "      <th>9995</th>\n",
       "      <td>0</td>\n",
       "      <td>0</td>\n",
       "      <td>0</td>\n",
       "      <td>0</td>\n",
       "      <td>0</td>\n",
       "      <td>0</td>\n",
       "      <td>0</td>\n",
       "      <td>0</td>\n",
       "      <td>0</td>\n",
       "      <td>1</td>\n",
       "      <td>...</td>\n",
       "      <td>0</td>\n",
       "      <td>0</td>\n",
       "      <td>0</td>\n",
       "      <td>0</td>\n",
       "      <td>0</td>\n",
       "      <td>0</td>\n",
       "      <td>0</td>\n",
       "      <td>0</td>\n",
       "      <td>0</td>\n",
       "      <td>0</td>\n",
       "    </tr>\n",
       "    <tr>\n",
       "      <th>9996</th>\n",
       "      <td>1</td>\n",
       "      <td>0</td>\n",
       "      <td>0</td>\n",
       "      <td>0</td>\n",
       "      <td>0</td>\n",
       "      <td>1</td>\n",
       "      <td>0</td>\n",
       "      <td>1</td>\n",
       "      <td>0</td>\n",
       "      <td>1</td>\n",
       "      <td>...</td>\n",
       "      <td>0</td>\n",
       "      <td>1</td>\n",
       "      <td>1</td>\n",
       "      <td>0</td>\n",
       "      <td>0</td>\n",
       "      <td>1</td>\n",
       "      <td>0</td>\n",
       "      <td>0</td>\n",
       "      <td>0</td>\n",
       "      <td>1</td>\n",
       "    </tr>\n",
       "    <tr>\n",
       "      <th>9997</th>\n",
       "      <td>0</td>\n",
       "      <td>1</td>\n",
       "      <td>0</td>\n",
       "      <td>0</td>\n",
       "      <td>0</td>\n",
       "      <td>0</td>\n",
       "      <td>0</td>\n",
       "      <td>0</td>\n",
       "      <td>1</td>\n",
       "      <td>0</td>\n",
       "      <td>...</td>\n",
       "      <td>0</td>\n",
       "      <td>0</td>\n",
       "      <td>1</td>\n",
       "      <td>0</td>\n",
       "      <td>0</td>\n",
       "      <td>0</td>\n",
       "      <td>0</td>\n",
       "      <td>0</td>\n",
       "      <td>0</td>\n",
       "      <td>0</td>\n",
       "    </tr>\n",
       "    <tr>\n",
       "      <th>9998</th>\n",
       "      <td>0</td>\n",
       "      <td>0</td>\n",
       "      <td>1</td>\n",
       "      <td>0</td>\n",
       "      <td>1</td>\n",
       "      <td>1</td>\n",
       "      <td>1</td>\n",
       "      <td>1</td>\n",
       "      <td>1</td>\n",
       "      <td>1</td>\n",
       "      <td>...</td>\n",
       "      <td>1</td>\n",
       "      <td>1</td>\n",
       "      <td>0</td>\n",
       "      <td>1</td>\n",
       "      <td>1</td>\n",
       "      <td>1</td>\n",
       "      <td>0</td>\n",
       "      <td>0</td>\n",
       "      <td>1</td>\n",
       "      <td>1</td>\n",
       "    </tr>\n",
       "    <tr>\n",
       "      <th>9999</th>\n",
       "      <td>0</td>\n",
       "      <td>1</td>\n",
       "      <td>0</td>\n",
       "      <td>0</td>\n",
       "      <td>1</td>\n",
       "      <td>1</td>\n",
       "      <td>1</td>\n",
       "      <td>0</td>\n",
       "      <td>1</td>\n",
       "      <td>0</td>\n",
       "      <td>...</td>\n",
       "      <td>1</td>\n",
       "      <td>1</td>\n",
       "      <td>1</td>\n",
       "      <td>1</td>\n",
       "      <td>0</td>\n",
       "      <td>1</td>\n",
       "      <td>0</td>\n",
       "      <td>1</td>\n",
       "      <td>0</td>\n",
       "      <td>0</td>\n",
       "    </tr>\n",
       "  </tbody>\n",
       "</table>\n",
       "<p>10000 rows × 38 columns</p>\n",
       "</div>"
      ],
      "text/plain": [
       "      come  day  feel  friend  good  got  know  life  like  ll  ...  think  \\\n",
       "0        0    0     0       0     0    0     0     0     0   0  ...      0   \n",
       "1        0    0     0       0     0    0     0     0     0   0  ...      0   \n",
       "2        0    0     0       0     1    0     0     0     0   0  ...      0   \n",
       "3        0    1     0       1     0    0     0     0     1   0  ...      0   \n",
       "4        0    0     0       0     0    0     0     0     0   0  ...      0   \n",
       "...    ...  ...   ...     ...   ...  ...   ...   ...   ...  ..  ...    ...   \n",
       "9995     0    0     0       0     0    0     0     0     0   1  ...      0   \n",
       "9996     1    0     0       0     0    1     0     1     0   1  ...      0   \n",
       "9997     0    1     0       0     0    0     0     0     1   0  ...      0   \n",
       "9998     0    0     1       0     1    1     1     1     1   1  ...      1   \n",
       "9999     0    1     0       0     1    1     1     0     1   0  ...      1   \n",
       "\n",
       "      time  today  tri  u  ve  want  way  work  year  \n",
       "0        0      0    1  0   0     0    0     0     0  \n",
       "1        0      0    0  0   0     0    0     0     0  \n",
       "2        1      1    1  0   0     1    0     0     1  \n",
       "3        1      1    0  0   0     1    0     1     0  \n",
       "4        0      0    0  0   0     0    0     0     0  \n",
       "...    ...    ...  ... ..  ..   ...  ...   ...   ...  \n",
       "9995     0      0    0  0   0     0    0     0     0  \n",
       "9996     1      1    0  0   1     0    0     0     1  \n",
       "9997     0      1    0  0   0     0    0     0     0  \n",
       "9998     1      0    1  1   1     0    0     1     1  \n",
       "9999     1      1    1  0   1     0    1     0     0  \n",
       "\n",
       "[10000 rows x 38 columns]"
      ]
     },
     "execution_count": 72,
     "metadata": {},
     "output_type": "execute_result"
    }
   ],
   "source": [
    "pd.DataFrame(data=X_test_vect.toarray(),columns=vectorizer.get_feature_names())"
   ]
  },
  {
   "cell_type": "code",
   "execution_count": 73,
   "id": "3b42068a",
   "metadata": {},
   "outputs": [
    {
     "data": {
      "text/plain": [
       "((40000, 80), (10000, 80))"
      ]
     },
     "execution_count": 73,
     "metadata": {},
     "output_type": "execute_result"
    }
   ],
   "source": [
    "# Binarizer\n",
    "binarizer = MultiLabelBinarizer()\n",
    "\n",
    "y_train = [[str(i) for i in j] for j in y_train]\n",
    "y_test = [[str(i) for i in j] for j in y_test]\n",
    "\n",
    "y_train_lbls = binarizer.fit_transform(y_train)\n",
    "y_test_lbls = binarizer.transform(y_test)\n",
    "y_train_lbls.shape, y_test_lbls.shape"
   ]
  },
  {
   "cell_type": "code",
   "execution_count": 74,
   "id": "4fde05c9",
   "metadata": {},
   "outputs": [
    {
     "data": {
      "text/plain": [
       "array([0, 0, 0, 0, 1, 0, 0, 0, 0, 0, 0, 0, 0, 0, 0, 0, 0, 0, 0, 0, 0, 0,\n",
       "       0, 0, 0, 0, 0, 0, 0, 0, 0, 0, 0, 0, 0, 0, 0, 0, 1, 0, 0, 0, 0, 0,\n",
       "       0, 0, 0, 0, 0, 0, 0, 0, 0, 0, 0, 0, 0, 0, 0, 0, 0, 0, 0, 0, 0, 0,\n",
       "       0, 0, 0, 0, 1, 0, 0, 0, 0, 0, 0, 1, 0, 0])"
      ]
     },
     "execution_count": 74,
     "metadata": {},
     "output_type": "execute_result"
    }
   ],
   "source": [
    "y_train_lbls[0]"
   ]
  },
  {
   "cell_type": "markdown",
   "id": "67d113fe",
   "metadata": {},
   "source": [
    "### Logistic Regression"
   ]
  },
  {
   "cell_type": "code",
   "execution_count": 75,
   "id": "dbcc23c2",
   "metadata": {},
   "outputs": [
    {
     "data": {
      "text/plain": [
       "OneVsRestClassifier(estimator=LogisticRegression(), n_jobs=1)"
      ]
     },
     "execution_count": 75,
     "metadata": {},
     "output_type": "execute_result"
    }
   ],
   "source": [
    "# Logistic Regression\n",
    "lr = LogisticRegression(solver='lbfgs')\n",
    "lr_ovrc = OneVsRestClassifier(lr, n_jobs=1)\n",
    "\n",
    "\n",
    "# Using pipeline for applying logistic regression and one vs rest classifier\n",
    "lr_ovrc_pipeline = Pipeline([('clf', \n",
    "                             OneVsRestClassifier(LogisticRegression(solver='sag'),\n",
    "                                                 n_jobs=-1)),])\n",
    "\n",
    "lr_ovrc.fit(X_train_vect, y_train_lbls)"
   ]
  },
  {
   "cell_type": "code",
   "execution_count": 76,
   "id": "d692ba00",
   "metadata": {},
   "outputs": [],
   "source": [
    "y_train_pred = lr_ovrc.predict(X_train_vect)"
   ]
  },
  {
   "cell_type": "code",
   "execution_count": 77,
   "id": "b374f47f",
   "metadata": {},
   "outputs": [
    {
     "data": {
      "text/plain": [
       "array([[0, 0, 0, ..., 0, 0, 1],\n",
       "       [0, 0, 0, ..., 0, 0, 1],\n",
       "       [0, 0, 0, ..., 1, 0, 0],\n",
       "       ...,\n",
       "       [0, 0, 0, ..., 0, 0, 1],\n",
       "       [0, 0, 0, ..., 1, 0, 0],\n",
       "       [0, 0, 0, ..., 1, 0, 0]])"
      ]
     },
     "execution_count": 77,
     "metadata": {},
     "output_type": "execute_result"
    }
   ],
   "source": [
    "y_train_pred"
   ]
  },
  {
   "cell_type": "code",
   "execution_count": 78,
   "id": "bbb9a293",
   "metadata": {},
   "outputs": [
    {
     "name": "stdout",
     "output_type": "stream",
     "text": [
      "              precision    recall  f1-score   support\n",
      "\n",
      "           0       0.00      0.00      0.00       766\n",
      "           1       0.00      0.00      0.00      1553\n",
      "           2       0.00      0.00      0.00      2446\n",
      "           3       0.00      0.00      0.00      4363\n",
      "           4       0.00      0.00      0.00      4743\n",
      "           5       0.00      0.00      0.00      4197\n",
      "           6       0.00      0.00      0.00      4599\n",
      "           7       0.00      0.00      0.00      4049\n",
      "           8       0.00      0.00      0.00      3393\n",
      "           9       0.00      0.00      0.00      2736\n",
      "          10       0.00      0.00      0.00      1031\n",
      "          11       1.00      0.00      0.00      1233\n",
      "          12       0.00      0.00      0.00      1069\n",
      "          13       0.00      0.00      0.00       817\n",
      "          14       0.00      0.00      0.00       581\n",
      "          15       0.00      0.00      0.00       390\n",
      "          16       0.00      0.00      0.00       287\n",
      "          17       0.00      0.00      0.00       291\n",
      "          18       0.00      0.00      0.00       209\n",
      "          19       0.00      0.00      0.00       154\n",
      "          20       0.00      0.00      0.00       228\n",
      "          21       0.00      0.00      0.00       130\n",
      "          22       0.00      0.00      0.00       254\n",
      "          23       0.00      0.00      0.00       163\n",
      "          24       0.00      0.00      0.00       127\n",
      "          25       0.00      0.00      0.00       191\n",
      "          26       0.00      0.00      0.00       207\n",
      "          27       0.00      0.00      0.00       282\n",
      "          28       0.00      0.00      0.00        77\n",
      "          29       0.00      0.00      0.00      2887\n",
      "          30       0.00      0.00      0.00        86\n",
      "          31       0.00      0.00      0.00      3842\n",
      "          32       0.00      0.00      0.00      1928\n",
      "          33       0.00      0.00      0.00        70\n",
      "          34       0.00      0.00      0.00       238\n",
      "          35       0.00      0.00      0.00       152\n",
      "          36       0.00      0.00      0.00       259\n",
      "          37       0.00      0.00      0.00      3820\n",
      "          38       0.00      0.00      0.00      2833\n",
      "          39       0.00      0.00      0.00       252\n",
      "          40       0.00      0.00      0.00      1220\n",
      "          41       0.00      0.00      0.00        81\n",
      "          42       0.00      0.00      0.00       358\n",
      "          43       0.00      0.00      0.00      1706\n",
      "          44       0.00      0.00      0.00       649\n",
      "          45       0.00      0.00      0.00        47\n",
      "          46       0.00      0.00      0.00       274\n",
      "          47       0.00      0.00      0.00      3076\n",
      "          48       0.00      0.00      0.00       404\n",
      "          49       0.00      0.00      0.00       182\n",
      "          50       0.00      0.00      0.00       877\n",
      "          51       0.00      0.00      0.00        72\n",
      "          52       0.00      0.00      0.00       503\n",
      "          53       0.00      0.00      0.00       105\n",
      "          54       0.00      0.00      0.00      3201\n",
      "          55       0.00      0.00      0.00      3692\n",
      "          56       0.00      0.00      0.00       134\n",
      "          57       0.00      0.00      0.00        15\n",
      "          58       0.00      0.00      0.00       276\n",
      "          59       0.00      0.00      0.00       182\n",
      "          60       0.00      0.00      0.00       183\n",
      "          61       0.00      0.00      0.00       838\n",
      "          62       0.00      0.00      0.00      3119\n",
      "          63       1.00      0.00      0.00       453\n",
      "          64       0.00      0.00      0.00       171\n",
      "          65       0.00      0.00      0.00       312\n",
      "          66       0.00      0.00      0.00      2933\n",
      "          67       0.00      0.00      0.00       437\n",
      "          68       0.00      0.00      0.00      3397\n",
      "          69       0.00      0.00      0.00       185\n",
      "          70       0.44      0.00      0.01      9051\n",
      "          71       0.00      0.00      0.00      3642\n",
      "          72       0.00      0.00      0.00      2581\n",
      "          73       0.00      0.00      0.00       221\n",
      "          74       0.00      0.00      0.00       119\n",
      "          75       0.00      0.00      0.00       136\n",
      "          76       0.00      0.00      0.00      3558\n",
      "          77       0.58      0.42      0.49     19617\n",
      "          78       0.00      0.00      0.00     14677\n",
      "          79       0.56      0.71      0.63     20383\n",
      "\n",
      "   micro avg       0.57      0.14      0.23    160000\n",
      "   macro avg       0.04      0.01      0.01    160000\n",
      "weighted avg       0.18      0.14      0.14    160000\n",
      " samples avg       0.57      0.14      0.23    160000\n",
      "\n"
     ]
    }
   ],
   "source": [
    "print(classification_report(y_train_lbls, y_train_pred))"
   ]
  },
  {
   "cell_type": "code",
   "execution_count": 79,
   "id": "11e6490b",
   "metadata": {},
   "outputs": [],
   "source": [
    "y_test_pred = lr_ovrc.predict(X_test_vect)"
   ]
  },
  {
   "cell_type": "code",
   "execution_count": 80,
   "id": "e08ed935",
   "metadata": {},
   "outputs": [
    {
     "name": "stdout",
     "output_type": "stream",
     "text": [
      "              precision    recall  f1-score   support\n",
      "\n",
      "           0       0.00      0.00      0.00       202\n",
      "           1       0.00      0.00      0.00       416\n",
      "           2       1.00      0.00      0.01       541\n",
      "           3       0.00      0.00      0.00      1080\n",
      "           4       0.00      0.00      0.00      1151\n",
      "           5       0.00      0.00      0.00      1098\n",
      "           6       0.00      0.00      0.00      1200\n",
      "           7       0.00      0.00      0.00       997\n",
      "           8       0.00      0.00      0.00       830\n",
      "           9       0.00      0.00      0.00       689\n",
      "          10       0.00      0.00      0.00       248\n",
      "          11       0.00      0.00      0.00       325\n",
      "          12       0.00      0.00      0.00       243\n",
      "          13       0.00      0.00      0.00       185\n",
      "          14       0.00      0.00      0.00       160\n",
      "          15       0.00      0.00      0.00       132\n",
      "          16       0.00      0.00      0.00        77\n",
      "          17       0.00      0.00      0.00        71\n",
      "          18       0.00      0.00      0.00        68\n",
      "          19       0.00      0.00      0.00        43\n",
      "          20       0.00      0.00      0.00        47\n",
      "          21       0.00      0.00      0.00        15\n",
      "          22       0.00      0.00      0.00        59\n",
      "          23       0.00      0.00      0.00        42\n",
      "          24       0.00      0.00      0.00        33\n",
      "          25       0.00      0.00      0.00        48\n",
      "          26       0.00      0.00      0.00        64\n",
      "          27       0.00      0.00      0.00        78\n",
      "          28       0.00      0.00      0.00        19\n",
      "          29       0.00      0.00      0.00       742\n",
      "          30       0.00      0.00      0.00        25\n",
      "          31       0.00      0.00      0.00       933\n",
      "          32       0.00      0.00      0.00       490\n",
      "          33       0.00      0.00      0.00        17\n",
      "          34       0.00      0.00      0.00        58\n",
      "          35       0.00      0.00      0.00        29\n",
      "          36       0.00      0.00      0.00        71\n",
      "          37       0.00      0.00      0.00       938\n",
      "          38       0.00      0.00      0.00       724\n",
      "          39       0.00      0.00      0.00        63\n",
      "          40       0.00      0.00      0.00       320\n",
      "          41       0.00      0.00      0.00        17\n",
      "          42       0.00      0.00      0.00        91\n",
      "          43       0.00      0.00      0.00       450\n",
      "          44       0.00      0.00      0.00       166\n",
      "          45       0.00      0.00      0.00         9\n",
      "          46       0.00      0.00      0.00        74\n",
      "          47       0.00      0.00      0.00       762\n",
      "          48       0.00      0.00      0.00        98\n",
      "          49       0.00      0.00      0.00        46\n",
      "          50       0.00      0.00      0.00       247\n",
      "          51       0.00      0.00      0.00        14\n",
      "          52       0.00      0.00      0.00       148\n",
      "          53       0.00      0.00      0.00        31\n",
      "          54       0.00      0.00      0.00       789\n",
      "          55       0.00      0.00      0.00       863\n",
      "          56       0.00      0.00      0.00        36\n",
      "          57       0.00      0.00      0.00         3\n",
      "          58       0.00      0.00      0.00        73\n",
      "          59       0.00      0.00      0.00        35\n",
      "          60       0.00      0.00      0.00        30\n",
      "          61       0.00      0.00      0.00       207\n",
      "          62       0.00      0.00      0.00       790\n",
      "          63       0.00      0.00      0.00       120\n",
      "          64       0.00      0.00      0.00        53\n",
      "          65       0.00      0.00      0.00        92\n",
      "          66       0.00      0.00      0.00       729\n",
      "          67       0.00      0.00      0.00       121\n",
      "          68       0.00      0.00      0.00       822\n",
      "          69       0.00      0.00      0.00        48\n",
      "          70       0.50      0.00      0.00      2218\n",
      "          71       0.00      0.00      0.00      1016\n",
      "          72       0.00      0.00      0.00       598\n",
      "          73       0.00      0.00      0.00        54\n",
      "          74       0.00      0.00      0.00        26\n",
      "          75       0.00      0.00      0.00        32\n",
      "          76       0.00      0.00      0.00       892\n",
      "          77       0.60      0.43      0.50      5002\n",
      "          78       0.00      0.00      0.00      3629\n",
      "          79       0.55      0.71      0.62      4998\n",
      "\n",
      "   micro avg       0.57      0.14      0.23     40000\n",
      "   macro avg       0.03      0.01      0.01     40000\n",
      "weighted avg       0.18      0.14      0.14     40000\n",
      " samples avg       0.57      0.14      0.23     40000\n",
      "\n"
     ]
    }
   ],
   "source": [
    "print(classification_report(y_test_lbls, y_test_pred))"
   ]
  },
  {
   "cell_type": "code",
   "execution_count": 81,
   "id": "9c195d22",
   "metadata": {},
   "outputs": [
    {
     "name": "stdout",
     "output_type": "stream",
     "text": [
      "---------- Accuracy score [on TRAIN data] ----------\n",
      "-------------- Average Type  micro --------------\n",
      "               F1 score:  22.77%\n",
      "              Avg Precision Score:  12.38%\n",
      "               Avg Recall Score:  14.24%\n",
      "\n",
      "-------------- Average Type  macro --------------\n",
      "               F1 score:  1.41%\n",
      "              Avg Precision Score:  5.10%\n",
      "               Avg Recall Score:  1.42%\n",
      "\n",
      "-------------- Average Type  weighted --------------\n",
      "               F1 score:  14.02%\n",
      "              Avg Precision Score:  22.53%\n",
      "               Avg Recall Score:  14.24%\n",
      "----------------------------------------------------\n"
     ]
    }
   ],
   "source": [
    "print('---------- Accuracy score [on TRAIN data] ----------')\n",
    "print_predicted_scores(y_train_lbls, y_train_pred, 'micro')\n",
    "print('')\n",
    "print_predicted_scores(y_train_lbls, y_train_pred, 'macro')\n",
    "print('')\n",
    "print_predicted_scores(y_train_lbls, y_train_pred, 'weighted')\n",
    "print('----------------------------------------------------')"
   ]
  },
  {
   "cell_type": "code",
   "execution_count": 82,
   "id": "ed803062",
   "metadata": {},
   "outputs": [
    {
     "name": "stdout",
     "output_type": "stream",
     "text": [
      "---------- Accuracy score [on TEST data] ----------\n",
      "-------------- Average Type  micro --------------\n",
      "               F1 score:  22.74%\n",
      "              Avg Precision Score:  12.36%\n",
      "               Avg Recall Score:  14.21%\n",
      "\n",
      "-------------- Average Type  macro --------------\n",
      "               F1 score:  1.41%\n",
      "              Avg Precision Score:  5.10%\n",
      "               Avg Recall Score:  1.43%\n",
      "\n",
      "-------------- Average Type  weighted --------------\n",
      "               F1 score:  14.01%\n",
      "              Avg Precision Score:  22.44%\n",
      "               Avg Recall Score:  14.21%\n",
      "----------------------------------------------------\n"
     ]
    }
   ],
   "source": [
    "print('---------- Accuracy score [on TEST data] ----------')\n",
    "print_predicted_scores(y_test_lbls, y_test_pred, 'micro')\n",
    "print('')\n",
    "print_predicted_scores(y_test_lbls, y_test_pred, 'macro')\n",
    "print('')\n",
    "print_predicted_scores(y_test_lbls, y_test_pred, 'weighted')\n",
    "print('----------------------------------------------------')"
   ]
  },
  {
   "cell_type": "markdown",
   "id": "4fc47108",
   "metadata": {},
   "source": [
    "### Actual Vs Predicted "
   ]
  },
  {
   "cell_type": "code",
   "execution_count": 83,
   "id": "2d1ac479",
   "metadata": {},
   "outputs": [
    {
     "name": "stdout",
     "output_type": "stream",
     "text": [
      "2021\n",
      "Actual labels   :  ['female', '16', 'indUnk', 'Capricorn']\n",
      "Predicted labels: ('female',)\n",
      "\n",
      "3314\n",
      "Actual labels   :  ['female', '36', 'indUnk', 'Sagittarius']\n",
      "Predicted labels: ('female',)\n",
      "\n",
      "7103\n",
      "Actual labels   :  ['female', '23', 'Student', 'Capricorn']\n",
      "Predicted labels: ('female',)\n",
      "\n",
      "9760\n",
      "Actual labels   :  ['female', '37', 'indUnk', 'Cancer']\n",
      "Predicted labels: ('male',)\n",
      "\n",
      "4434\n",
      "Actual labels   :  ['male', '37', 'indUnk', 'Leo']\n",
      "Predicted labels: ('female',)\n",
      "\n"
     ]
    }
   ],
   "source": [
    "pred_classes = binarizer.inverse_transform(y_test_pred)\n",
    "\n",
    "for i in sample(range(len(y_test_pred)),  5):\n",
    "    print(i)\n",
    "    print(\"Actual labels   : \", y_test[i])\n",
    "    print(\"Predicted labels:\", pred_classes[i])\n",
    "    print()"
   ]
  },
  {
   "cell_type": "code",
   "execution_count": 84,
   "id": "9ff30d8d",
   "metadata": {},
   "outputs": [],
   "source": [
    "sample_pred = y_test_pred[100:105]\n",
    "actual_label = y_test_lbls[100:105]"
   ]
  },
  {
   "cell_type": "markdown",
   "id": "db4594d6",
   "metadata": {},
   "source": [
    "#### Actual data"
   ]
  },
  {
   "cell_type": "code",
   "execution_count": 85,
   "id": "1135b8fb",
   "metadata": {},
   "outputs": [
    {
     "data": {
      "text/plain": [
       "[('24', 'Gemini', 'InvestmentBanking', 'male'),\n",
       " ('17', 'Capricorn', 'Student', 'female'),\n",
       " ('39', 'Capricorn', 'indUnk', 'male'),\n",
       " ('35', 'Capricorn', 'Military', 'male'),\n",
       " ('17', 'Non-Profit', 'Virgo', 'female')]"
      ]
     },
     "execution_count": 85,
     "metadata": {},
     "output_type": "execute_result"
    }
   ],
   "source": [
    "actual_label = binarizer.inverse_transform(actual_label)\n",
    "actual_label"
   ]
  },
  {
   "cell_type": "markdown",
   "id": "eca7ee8a",
   "metadata": {},
   "source": [
    "#### Predicted data"
   ]
  },
  {
   "cell_type": "code",
   "execution_count": 86,
   "id": "dafbfd35",
   "metadata": {},
   "outputs": [
    {
     "data": {
      "text/plain": [
       "[('male',), ('male',), ('male',), ('male',), ('female',)]"
      ]
     },
     "execution_count": 86,
     "metadata": {},
     "output_type": "execute_result"
    }
   ],
   "source": [
    "sample_pred = binarizer.inverse_transform(sample_pred)\n",
    "sample_pred"
   ]
  }
 ],
 "metadata": {
  "kernelspec": {
   "display_name": "Python 3 (ipykernel)",
   "language": "python",
   "name": "python3"
  },
  "language_info": {
   "codemirror_mode": {
    "name": "ipython",
    "version": 3
   },
   "file_extension": ".py",
   "mimetype": "text/x-python",
   "name": "python",
   "nbconvert_exporter": "python",
   "pygments_lexer": "ipython3",
   "version": "3.8.8"
  }
 },
 "nbformat": 4,
 "nbformat_minor": 5
}
